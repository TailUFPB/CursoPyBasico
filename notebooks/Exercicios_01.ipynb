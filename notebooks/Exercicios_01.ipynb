{
  "nbformat": 4,
  "nbformat_minor": 0,
  "metadata": {
    "colab": {
      "name": "Python para Estatísticos - Exercicios.ipynb",
      "provenance": [],
      "authorship_tag": "ABX9TyOet57H/dRGR2wcDKmj/OGq",
      "include_colab_link": true
    },
    "kernelspec": {
      "name": "python3",
      "display_name": "Python 3"
    },
    "language_info": {
      "name": "python"
    }
  },
  "cells": [
    {
      "cell_type": "markdown",
      "metadata": {
        "id": "view-in-github",
        "colab_type": "text"
      },
      "source": [
        "<a href=\"https://colab.research.google.com/github/TailUFPB/CursoPyBasico/blob/main/notebooks/Exercicios_01.ipynb\" target=\"_parent\"><img src=\"https://colab.research.google.com/assets/colab-badge.svg\" alt=\"Open In Colab\"/></a>"
      ]
    },
    {
      "cell_type": "markdown",
      "metadata": {
        "id": "bUztX1_7Gnc4"
      },
      "source": [
        "# Introdução básica ao _Python_\n",
        "\n",
        "## Módulo (I): Conceitos básicos"
      ]
    },
    {
      "cell_type": "markdown",
      "metadata": {
        "id": "Cw_he2gOG8Yy"
      },
      "source": [
        "### (1.7) Exercícios\n",
        "\n",
        "https://tmfilho.github.io/pyestbook/guide/09_exer.html"
      ]
    },
    {
      "cell_type": "markdown",
      "metadata": {
        "id": "UYR4TazDHA43"
      },
      "source": [
        "1.1. Calcule a área de um círculo de raio 2. Assuma pi = 3.14."
      ]
    },
    {
      "cell_type": "code",
      "metadata": {
        "id": "mibJ43B6GkLI"
      },
      "source": [
        "pass"
      ],
      "execution_count": 1,
      "outputs": []
    },
    {
      "cell_type": "markdown",
      "metadata": {
        "id": "BnttW0BQHUly"
      },
      "source": [
        "\n",
        "1.2. Escreva uma função que verifica se um número é par. Se for, imprima uma mensagem. Se não for, imprima outra mensagem.\n"
      ]
    },
    {
      "cell_type": "code",
      "metadata": {
        "id": "xlCFpR4FHZFq"
      },
      "source": [
        "pass"
      ],
      "execution_count": 2,
      "outputs": []
    },
    {
      "cell_type": "markdown",
      "metadata": {
        "id": "qpr2t6WGHtn3"
      },
      "source": [
        "1.3. No exercício acima, se o número for par, verifique se ele é múltiplo de 4. Se for, exiba uma mensagem diferente."
      ]
    },
    {
      "cell_type": "code",
      "metadata": {
        "id": "EQhuE5O2HtKh"
      },
      "source": [
        "pass"
      ],
      "execution_count": 3,
      "outputs": []
    },
    {
      "cell_type": "markdown",
      "metadata": {
        "id": "t_y1BtyKIWfa"
      },
      "source": [
        "\n",
        "1.4. Escreva um código que imprima os elementos menores que 5 na seguinte lista:\n",
        "\n",
        "a = [1, 4, 2, 3, 2, 1, 5, 8, 5, 7, -1, 0, 23]"
      ]
    },
    {
      "cell_type": "code",
      "metadata": {
        "id": "b6NCvfw5IRZl"
      },
      "source": [
        "a = [1, 4, 2, 3, 2, 1, 5, 8, 5, 7, -1, 0, 23]\n",
        "\n",
        "pass"
      ],
      "execution_count": 4,
      "outputs": []
    },
    {
      "cell_type": "markdown",
      "metadata": {
        "id": "7OLGpQLQKNm3"
      },
      "source": [
        "1.5. Escreva um código que encontra todos os divisores do número 42."
      ]
    },
    {
      "cell_type": "code",
      "metadata": {
        "id": "woXyIyF2IuHZ"
      },
      "source": [
        "pass"
      ],
      "execution_count": 5,
      "outputs": []
    },
    {
      "cell_type": "markdown",
      "metadata": {
        "id": "bPplEmJlKzlm"
      },
      "source": [
        "1.6. Calcule a multiplicação das duas matrizes abaixo sem usar laços:\n",
        "\n",
        "a = [[2, 3], [4, 2]]\n",
        "\\\n",
        "b = [[2, 0], [1, 2]]"
      ]
    },
    {
      "cell_type": "code",
      "metadata": {
        "id": "4n80UxzmKrIY"
      },
      "source": [
        "a = [[2, 3], \n",
        "     [4, 2]]\n",
        "\n",
        "b = [[2, 0], \n",
        "     [1, 2]]\n",
        "\n",
        "pass"
      ],
      "execution_count": 6,
      "outputs": []
    },
    {
      "cell_type": "markdown",
      "metadata": {
        "id": "Y8nEnHGEwH2Y"
      },
      "source": [
        "1.7. Calcule a multiplicação acima usando laços:"
      ]
    },
    {
      "cell_type": "code",
      "metadata": {
        "id": "SgxIw8dCLqu3"
      },
      "source": [
        "pass"
      ],
      "execution_count": 7,
      "outputs": []
    },
    {
      "cell_type": "markdown",
      "metadata": {
        "id": "4Iowq_4b0eyU"
      },
      "source": [
        "1.8. Calcule o fatorial de 5 usando algum tipo de laço."
      ]
    },
    {
      "cell_type": "code",
      "metadata": {
        "id": "Qe2KbfidxFJv"
      },
      "source": [
        "pass"
      ],
      "execution_count": 8,
      "outputs": []
    },
    {
      "cell_type": "code",
      "metadata": {
        "id": "nHlsT8H11AQL"
      },
      "source": [
        "pass"
      ],
      "execution_count": 9,
      "outputs": []
    },
    {
      "cell_type": "markdown",
      "metadata": {
        "id": "GzvHUXM91VFP"
      },
      "source": [
        "1.9. Verifique se o número 79 é primo."
      ]
    },
    {
      "cell_type": "code",
      "metadata": {
        "id": "ary8UKhD1ErW"
      },
      "source": [
        "pass "
      ],
      "execution_count": 10,
      "outputs": []
    },
    {
      "cell_type": "markdown",
      "metadata": {
        "id": "pWS1L9kG1rQy"
      },
      "source": [
        "1.10. Calcule a distância Euclidiana dos seguintes vetores:\n",
        "\n",
        "a, b = [1, 0, 1], [-1, 2, 3]"
      ]
    },
    {
      "cell_type": "code",
      "metadata": {
        "id": "nUzUqQRX1r7F"
      },
      "source": [
        "a, b = [1, 0, 1], [-1, 2, 3]\n",
        "\n",
        "pass"
      ],
      "execution_count": 11,
      "outputs": []
    },
    {
      "cell_type": "markdown",
      "metadata": {
        "id": "ArtFraUO25YU"
      },
      "source": [
        "1.11. Imprima as potências de 2, começando em 20, enquanto o resultado for menor do que 2000."
      ]
    },
    {
      "cell_type": "code",
      "metadata": {
        "id": "Ej7nbri019jw"
      },
      "source": [
        "pass"
      ],
      "execution_count": 12,
      "outputs": []
    },
    {
      "cell_type": "markdown",
      "metadata": {
        "id": "Pf2adjA853Oy"
      },
      "source": [
        "1.12. Escreva uma linha de código Python que gere uma lista apenas com os valores divisíveis por 2 e por 5 na lista abaixo:"
      ]
    },
    {
      "cell_type": "code",
      "metadata": {
        "id": "OBnQ95sK3Ph7"
      },
      "source": [
        "pass"
      ],
      "execution_count": 13,
      "outputs": []
    },
    {
      "cell_type": "markdown",
      "metadata": {
        "id": "XzxX17626Z9G"
      },
      "source": [
        "1.14. Escreva um laço que resulte no sétimo elemento da sequência de Fibonacci (lembrando que em Python os índices começam em 0):"
      ]
    },
    {
      "cell_type": "code",
      "metadata": {
        "id": "jttKRLmb7i_E"
      },
      "source": [
        "pass"
      ],
      "execution_count": 14,
      "outputs": []
    },
    {
      "cell_type": "markdown",
      "metadata": {
        "id": "_OMUwIlQ8vq8"
      },
      "source": [
        "1.15. Escreva uma função que calcule a área e circunferência de um círculo, dado um valor de raio. Peça um valor de raio ao usuário e calcule o valor da função."
      ]
    },
    {
      "cell_type": "code",
      "metadata": {
        "id": "TyXMyGre8z7q"
      },
      "source": [
        "pass"
      ],
      "execution_count": 15,
      "outputs": []
    }
  ]
}