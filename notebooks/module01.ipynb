{
  "nbformat": 4,
  "nbformat_minor": 0,
  "metadata": {
    "kernelspec": {
      "display_name": "Python 3",
      "language": "python",
      "name": "python3"
    },
    "language_info": {
      "codemirror_mode": {
        "name": "ipython",
        "version": 3
      },
      "file_extension": ".py",
      "mimetype": "text/x-python",
      "name": "python",
      "nbconvert_exporter": "python",
      "pygments_lexer": "ipython3",
      "version": "3.8.5"
    },
    "colab": {
      "name": "module01.ipynb",
      "provenance": [],
      "include_colab_link": true
    }
  },
  "cells": [
    {
      "cell_type": "markdown",
      "metadata": {
        "id": "view-in-github",
        "colab_type": "text"
      },
      "source": [
        "<a href=\"https://colab.research.google.com/github/TailUFPB/CursoPyBasico/blob/main/notebooks/module01.ipynb\" target=\"_parent\"><img src=\"https://colab.research.google.com/assets/colab-badge.svg\" alt=\"Open In Colab\"/></a>"
      ]
    },
    {
      "cell_type": "markdown",
      "metadata": {
        "id": "4WjShc6_8muY"
      },
      "source": [
        "# Introdução básica ao _Python_\n",
        "\n",
        "## Módulo (I): Conceitos básicos"
      ]
    },
    {
      "cell_type": "markdown",
      "metadata": {
        "id": "hlia04AL8muh"
      },
      "source": [
        "### (1.0) Preparando o ambiente"
      ]
    },
    {
      "cell_type": "markdown",
      "metadata": {
        "id": "qrjCeYxr8mui"
      },
      "source": [
        "### (1.0.1) Instalando o anaconda no linux (Ubunto)\n",
        "\n",
        "* **Passo 01:** Entra no site do [**anaconda**](https://www.anaconda.com/)"
      ]
    },
    {
      "cell_type": "markdown",
      "metadata": {
        "id": "yjO6c-TW8muj"
      },
      "source": [
        "* **Passo 02:** Ir em **Get Started**"
      ]
    },
    {
      "cell_type": "markdown",
      "metadata": {
        "id": "gBWqN5XF8muj"
      },
      "source": [
        "![step2](https://uploaddeimagens.com.br/images/003/191/171/original/2.png?1618177366)"
      ]
    },
    {
      "cell_type": "markdown",
      "metadata": {
        "id": "CKfhpUF08muk"
      },
      "source": [
        "* **Passo 03:** Clicar em **Download**"
      ]
    },
    {
      "cell_type": "markdown",
      "metadata": {
        "id": "lgHDG3gU8muk"
      },
      "source": [
        "![step3](https://uploaddeimagens.com.br/images/003/191/173/original/3.png?1618177444)"
      ]
    },
    {
      "cell_type": "markdown",
      "metadata": {
        "id": "eh2S7iqB8muk"
      },
      "source": [
        "* **Passo 04:**  Escolha o tipo do seu sistema, e clique"
      ]
    },
    {
      "cell_type": "markdown",
      "metadata": {
        "id": "RC8jo0K18mul"
      },
      "source": [
        "![step4](https://uploaddeimagens.com.br/images/003/191/175/original/4.png?1618177506)"
      ]
    },
    {
      "cell_type": "markdown",
      "metadata": {
        "id": "UrDh8bQT8mul"
      },
      "source": [
        "* **Passo 05:** Ir para o local aonde foi salvo o arquivo, e clicar do lado direito do mouse na paste, ir em **abrir no terminal**"
      ]
    },
    {
      "cell_type": "markdown",
      "metadata": {
        "id": "8p9uTno_8mum"
      },
      "source": [
        "![step5](https://uploaddeimagens.com.br/images/003/191/176/original/5.png?1618177583)"
      ]
    },
    {
      "cell_type": "markdown",
      "metadata": {
        "id": "fbiAqXfB8mum"
      },
      "source": [
        "* **Passo 06:** Rodar a seguinte linha de comando:\n",
        "```bash\n",
        "bash Anaconda3-2020.11-Linux-x86_64.sh\n",
        "```"
      ]
    },
    {
      "cell_type": "markdown",
      "metadata": {
        "id": "1mng6BEv8mum"
      },
      "source": [
        "![step6](https://uploaddeimagens.com.br/images/003/191/177/original/6.png?1618177666)"
      ]
    },
    {
      "cell_type": "markdown",
      "metadata": {
        "id": "Ux7JmqFe8mun"
      },
      "source": [
        "Por fim, so seguir os passos que for perguntado a você."
      ]
    },
    {
      "cell_type": "markdown",
      "metadata": {
        "id": "_-qjkHY08sj1"
      },
      "source": [
        "#### (1.0.2) Windows"
      ]
    },
    {
      "cell_type": "markdown",
      "metadata": {
        "id": "pjnE69O68y9s"
      },
      "source": [
        "Para instalar o ANACONDA no Windows, vamos da mesma forma para a página [anaconda.com](https://www.anaconda.com/products/individual), onde encontraremos algumas informações sobre o CONDA, no final da página temos as opções de download como a [Winx64](https://repo.anaconda.com/archive/Anaconda3-2020.11-Windows-x86_64.exe)."
      ]
    },
    {
      "cell_type": "markdown",
      "metadata": {
        "id": "eUmoQdMJ86ur"
      },
      "source": [
        "Seguimos o processo, escolhendo o local de instalação, deixe as opções recomendadas marcadas, a menos que saiba o que está fazendo. Não é necessário instalar o VSCode."
      ]
    },
    {
      "cell_type": "markdown",
      "metadata": {
        "id": "SPAYFFhy884D"
      },
      "source": [
        "Aberto o CONDA, abra o Spyder para acessar o python na sua maquina, outra opção é utilizar o JupyterNotebook direto no navegador ou o PyCharm, que possui uma interface python mais bonita"
      ]
    },
    {
      "cell_type": "markdown",
      "metadata": {
        "id": "xnTeTw8m8mun"
      },
      "source": [
        "### (1.1) Tipos de variáveis\n",
        "\n",
        "Antes de falarmos dos tipos de variáveis, vamos definir oque é ser uma \"variável\". Basicamente, elas são estruturados da seguinte forma: definimos um valor que desejamos armazenar, daí atribuimos um \"apelido\" para este valor que informamos para que possa ser utilizado em um momento a posterior. Esse \"apelido\" referencia a um endereço de memória craido na sua máquina para armazenar a informação.\n",
        "\n",
        "![test](https://uploaddeimagens.com.br/images/003/156/135/full/var-removebg-preview.png?1616953937)"
      ]
    },
    {
      "cell_type": "markdown",
      "metadata": {
        "id": "Opofu_py8mun"
      },
      "source": [
        "#### (1.1.1)  Nomes e identificadores\n",
        "\n",
        "Como a mairoia das linguagens, nomes de váveis, funções, classes e entre outras coisas,  que podemos denominar como **Identificadores**, aceitam a atribuição do uso de letras tanto **maiúsculas** e **minúsculas**. Esses identificadores apresentam diferenças quanto a maiúsculo e minúsculo, ou seja, **Variavel é diferente de variavel**. Além disso, temos algumas convenções para nomear esses identificadores:\n",
        "\n",
        "| Identificador             | Convenção                           | Exemplo            |   |\n",
        "|---------------------------|-------------------------------------|--------------------|---|\n",
        "| Módulos/pacotes           | caracteres minúsculos               | projetopython      |   |\n",
        "| Métodos/funções/variaveis | minúsculos_separados_por_underlines | variavel_aleatoria |   |\n",
        "| Globais/constantes        | maiúsculos_separados_por_underlines | CONSTANTE          |   |\n",
        "| Classes                   | Iniciais Maiúsculas                 | NormalDistribution |   |\n"
      ]
    },
    {
      "cell_type": "markdown",
      "metadata": {
        "id": "1i6EwlJd8muo"
      },
      "source": [
        "#### (1.1.2) Atribuição\n",
        "\n",
        "Em Python, temos uma grande flexibilidade de trabalho com essas variáveis. Para atribuirmos um valor em um objeto, basta utilizarmos os sinal de **=**. Vamos ver alguns exemplos:"
      ]
    },
    {
      "cell_type": "code",
      "metadata": {
        "id": "QjF42ulO8mup"
      },
      "source": [
        "# Utilizando o \"#\" podemos comentar linhas de codigo,\n",
        "# para podermos passar informações que sejam necessarias\n",
        "\n",
        "# Vamos armazenar o valor  123 em um objeto.\n",
        "numero = 1\n",
        "number = 456"
      ],
      "execution_count": 19,
      "outputs": []
    },
    {
      "cell_type": "code",
      "metadata": {
        "id": "vDz2cq7ybMTt",
        "outputId": "4ce87ad6-9618-480c-f25a-5314891875db",
        "colab": {
          "base_uri": "https://localhost:8080/"
        }
      },
      "source": [
        "numero"
      ],
      "execution_count": 8,
      "outputs": [
        {
          "output_type": "execute_result",
          "data": {
            "text/plain": [
              "123"
            ]
          },
          "metadata": {
            "tags": []
          },
          "execution_count": 8
        }
      ]
    },
    {
      "cell_type": "code",
      "metadata": {
        "id": "dzgcYth4bkOC",
        "outputId": "bf58f796-56eb-479b-fcac-241d4401d2bc",
        "colab": {
          "base_uri": "https://localhost:8080/"
        }
      },
      "source": [
        "valor"
      ],
      "execution_count": 11,
      "outputs": [
        {
          "output_type": "execute_result",
          "data": {
            "text/plain": [
              "123"
            ]
          },
          "metadata": {
            "tags": []
          },
          "execution_count": 11
        }
      ]
    },
    {
      "cell_type": "code",
      "metadata": {
        "id": "MM0nRC9vbsGL",
        "outputId": "f972b55c-6ff1-4aec-8da4-90f00e151408",
        "colab": {
          "base_uri": "https://localhost:8080/"
        }
      },
      "source": [
        "number"
      ],
      "execution_count": 12,
      "outputs": [
        {
          "output_type": "execute_result",
          "data": {
            "text/plain": [
              "456"
            ]
          },
          "metadata": {
            "tags": []
          },
          "execution_count": 12
        }
      ]
    },
    {
      "cell_type": "markdown",
      "metadata": {
        "id": "1pF9idxm8mup"
      },
      "source": [
        "Podemos verificar o tipo de uma variável utilizando o método type() nativo do próprio python.\n"
      ]
    },
    {
      "cell_type": "code",
      "metadata": {
        "id": "0gj3pb1m8muq",
        "outputId": "8c77943f-10ba-4139-98dd-757c94519869",
        "colab": {
          "base_uri": "https://localhost:8080/"
        }
      },
      "source": [
        "type(numero)"
      ],
      "execution_count": 20,
      "outputs": [
        {
          "output_type": "execute_result",
          "data": {
            "text/plain": [
              "int"
            ]
          },
          "metadata": {
            "tags": []
          },
          "execution_count": 20
        }
      ]
    },
    {
      "cell_type": "markdown",
      "metadata": {
        "id": "DkkAmgSa8mur"
      },
      "source": [
        "Perceba que ao utilizarmos o type(valor) tivemos o retorno \"int\", ou seja, valor é uma variável do tipo inteiro. Vamos agora armazenar o número 1, porém ele estará dentro de \"\" (aspas)."
      ]
    },
    {
      "cell_type": "code",
      "metadata": {
        "id": "w_iEZHP-8mur",
        "outputId": "1aa2fc02-d032-4d20-fedd-fe4e23610e3c",
        "colab": {
          "base_uri": "https://localhost:8080/"
        }
      },
      "source": [
        "n = \"12\"\n",
        "type(n)"
      ],
      "execution_count": 25,
      "outputs": [
        {
          "output_type": "execute_result",
          "data": {
            "text/plain": [
              "str"
            ]
          },
          "metadata": {
            "tags": []
          },
          "execution_count": 25
        }
      ]
    },
    {
      "cell_type": "markdown",
      "metadata": {
        "id": "Lo5HL48s8mus"
      },
      "source": [
        "Agora perceba que mesmo escrevendo um valor númerico, tivemos o retorno \"str\", diferente do anterior. \"str\" significa string, ou seja, uma variavel do tipo string é caracterizada por ser armazenada dentro de aspas, ou simplesmente usando str(), método nativo do Python."
      ]
    },
    {
      "cell_type": "code",
      "metadata": {
        "id": "WVC2QbX68mus",
        "outputId": "1f1a8c59-24eb-40d4-81d0-a0740a4e5311",
        "colab": {
          "base_uri": "https://localhost:8080/",
          "height": 35
        }
      },
      "source": [
        "str(10.1)"
      ],
      "execution_count": 30,
      "outputs": [
        {
          "output_type": "execute_result",
          "data": {
            "application/vnd.google.colaboratory.intrinsic+json": {
              "type": "string"
            },
            "text/plain": [
              "'10.1'"
            ]
          },
          "metadata": {
            "tags": []
          },
          "execution_count": 30
        }
      ]
    },
    {
      "cell_type": "markdown",
      "metadata": {
        "id": "mOOxtgGr8mus"
      },
      "source": [
        "Vamos citar algumas outras características do tipo String:"
      ]
    },
    {
      "cell_type": "code",
      "metadata": {
        "id": "8Fze05RB8mut",
        "outputId": "269a232a-a75a-4098-e9fa-a8216905669e",
        "colab": {
          "base_uri": "https://localhost:8080/"
        }
      },
      "source": [
        "# Concatenação simples de strings\n",
        "\n",
        "phrase = 'minha criatividade é '\n",
        "print(phrase + ' 0')"
      ],
      "execution_count": 31,
      "outputs": [
        {
          "output_type": "stream",
          "text": [
            "minha criatividade é  0\n"
          ],
          "name": "stdout"
        }
      ]
    },
    {
      "cell_type": "code",
      "metadata": {
        "id": "0tqls82Xd2Zd",
        "outputId": "7c9d5135-70d1-416d-b63c-441dd7b36a10",
        "colab": {
          "base_uri": "https://localhost:8080/"
        }
      },
      "source": [
        "type(phrase)"
      ],
      "execution_count": 32,
      "outputs": [
        {
          "output_type": "execute_result",
          "data": {
            "text/plain": [
              "str"
            ]
          },
          "metadata": {
            "tags": []
          },
          "execution_count": 32
        }
      ]
    },
    {
      "cell_type": "code",
      "metadata": {
        "id": "FbxDWNDheuIN"
      },
      "source": [
        "# Exemplo 2 de concatenação\n",
        "\n",
        "phrase2 = 'Eu sou um programador, e me chamo'\n",
        "name = 'Maria!'"
      ],
      "execution_count": 56,
      "outputs": []
    },
    {
      "cell_type": "code",
      "metadata": {
        "id": "0LdRF8G3e9AS",
        "outputId": "255ed0da-3044-46a3-8603-2c3b4cb77db5",
        "colab": {
          "base_uri": "https://localhost:8080/"
        }
      },
      "source": [
        "print(\"Olá! \" + phrase2 + name)"
      ],
      "execution_count": 53,
      "outputs": [
        {
          "output_type": "stream",
          "text": [
            "Olá! Eu sou um programador, e me chamo Maria!\n"
          ],
          "name": "stdout"
        }
      ]
    },
    {
      "cell_type": "code",
      "metadata": {
        "id": "wPBVnqGRfRDB",
        "outputId": "55fb6437-ec5c-41b6-aa2b-4bf0f0b9354a",
        "colab": {
          "base_uri": "https://localhost:8080/",
          "height": 35
        }
      },
      "source": [
        "# Mesmo exemplo utilizando FStrings\n",
        "\n",
        "f\"Olá! {phrase2} {name}\""
      ],
      "execution_count": 59,
      "outputs": [
        {
          "output_type": "execute_result",
          "data": {
            "application/vnd.google.colaboratory.intrinsic+json": {
              "type": "string"
            },
            "text/plain": [
              "'Olá! Eu sou um programador, e me chamo Maria!'"
            ]
          },
          "metadata": {
            "tags": []
          },
          "execution_count": 59
        }
      ]
    },
    {
      "cell_type": "markdown",
      "metadata": {
        "id": "wfVM1sec8mut"
      },
      "source": [
        "Note que eu posso concatenar de maneira simples strings, apenas utilizando o \"+\""
      ]
    },
    {
      "cell_type": "code",
      "metadata": {
        "id": "ENDXoBDc8mut",
        "outputId": "76385924-83fa-46b4-8b4c-c74d7ab9404f",
        "colab": {
          "base_uri": "https://localhost:8080/"
        }
      },
      "source": [
        "# Adicionar informações dentro de uma string, sem utilizar\n",
        "# o \"+\"\n",
        "name = \"Pedin\"\n",
        "print(f\"Meu nome é {name}\")\n",
        "print()\n",
        "print(\"meu nome é {}\".format(name))\n",
        "# Se quisermos adicionar mais de uma informação ...\n",
        "print()\n",
        "print(\"meu nome é {}, sou de {}\".format(name, 'JP'))\n",
        "print()\n",
        "print(f\"meu nome é {name}, sou de {'JP'}\")"
      ],
      "execution_count": 61,
      "outputs": [
        {
          "output_type": "stream",
          "text": [
            "Meu nome é Pedin\n",
            "\n",
            "meu nome é Pedin\n",
            "\n",
            "meu nome é Pedin, sou de JP\n",
            "\n",
            "meu nome é Pedin, sou de JP\n"
          ],
          "name": "stdout"
        }
      ]
    },
    {
      "cell_type": "markdown",
      "metadata": {
        "id": "0rKl6WAp8muu"
      },
      "source": [
        "Além do tipo inteiro, anteriormente citado, temos o float, tipo \"ponto fluante\", mas podemos tratar como um numero real. O que podemos fazer com o tipo inteiro, podemos fazer analogo para com o tipo float."
      ]
    },
    {
      "cell_type": "code",
      "metadata": {
        "id": "8KFbbzIC8muu",
        "outputId": "153d2096-812e-4658-9f3c-1f72e9efe6eb",
        "colab": {
          "base_uri": "https://localhost:8080/"
        }
      },
      "source": [
        "# Adicionamos a casa decimal\n",
        "value = 3.03\n",
        "print(type(value))\n",
        "\n",
        "# Ou simplesmente,\n",
        "value = 3.\n",
        "type(value)\n",
        "print(type(value))"
      ],
      "execution_count": 63,
      "outputs": [
        {
          "output_type": "stream",
          "text": [
            "<class 'float'>\n",
            "<class 'float'>\n"
          ],
          "name": "stdout"
        }
      ]
    },
    {
      "cell_type": "markdown",
      "metadata": {
        "id": "9zLutynl8muv"
      },
      "source": [
        "##### (1.1.2.1) Atribuição múltipla\n",
        "\n",
        "Além da atribuição simples, podemos realizar varias atribuições com uma linha de comando, utilizando um tipo de variável chamado tupla. Vamos ver alguns exemplos"
      ]
    },
    {
      "cell_type": "code",
      "metadata": {
        "id": "ZCFiOBL18muv",
        "outputId": "9b7e9b41-000f-4b27-9228-69fe6719460b",
        "colab": {
          "base_uri": "https://localhost:8080/"
        }
      },
      "source": [
        "# Antes, perceba o seguitne\n",
        "type((32, 45)) "
      ],
      "execution_count": 68,
      "outputs": [
        {
          "output_type": "execute_result",
          "data": {
            "text/plain": [
              "tuple"
            ]
          },
          "metadata": {
            "tags": []
          },
          "execution_count": 68
        }
      ]
    },
    {
      "cell_type": "code",
      "metadata": {
        "id": "Q8Na5goUhmNX",
        "outputId": "684d1044-b363-49a5-d3ec-1f1c3ed7fdd9",
        "colab": {
          "base_uri": "https://localhost:8080/"
        }
      },
      "source": [
        "ponto_2d = (100, 100)\n",
        "ponto_2d\n",
        "type(ponto_2d)"
      ],
      "execution_count": 73,
      "outputs": [
        {
          "output_type": "execute_result",
          "data": {
            "text/plain": [
              "tuple"
            ]
          },
          "metadata": {
            "tags": []
          },
          "execution_count": 73
        }
      ]
    },
    {
      "cell_type": "code",
      "metadata": {
        "id": "7jQf8SoY8muv",
        "outputId": "a0e0ad11-d77a-4845-9a22-47a73210626c",
        "colab": {
          "base_uri": "https://localhost:8080/"
        }
      },
      "source": [
        "v1, v2, v3 = \"32\", 45, True\n",
        "# vamos olhar os objetod armazenados:\n",
        "print(v1)\n",
        "print()\n",
        "print(v2)\n",
        "print()\n",
        "print(v3)"
      ],
      "execution_count": 81,
      "outputs": [
        {
          "output_type": "stream",
          "text": [
            "32\n",
            "\n",
            "45\n",
            "\n",
            "True\n"
          ],
          "name": "stdout"
        }
      ]
    },
    {
      "cell_type": "code",
      "metadata": {
        "id": "8wOUy9rd8muw",
        "outputId": "f5bb404d-1724-4fd0-a419-b872cd568595"
      },
      "source": [
        "# Além disso, podemos realizar essa atribuição múltipla \n",
        "# por meio da variável lista, da seguinte forma:\n",
        "v1, v2 = [32, 45]\n",
        "# vamos olhar os objetod armazenados:\n",
        "print(v1)\n",
        "print()\n",
        "print(v2)"
      ],
      "execution_count": null,
      "outputs": [
        {
          "output_type": "stream",
          "text": [
            "32\n",
            "\n",
            "45\n"
          ],
          "name": "stdout"
        }
      ]
    },
    {
      "cell_type": "markdown",
      "metadata": {
        "id": "bt8qCBMbibce"
      },
      "source": [
        "Existem outros tipos de dados chamamos Booleanos, que armazenam informações binárias: True ou False"
      ]
    },
    {
      "cell_type": "code",
      "metadata": {
        "id": "v4bARK7UiZ0m"
      },
      "source": [
        "positivo = True\n",
        "negativo = False"
      ],
      "execution_count": 79,
      "outputs": []
    },
    {
      "cell_type": "code",
      "metadata": {
        "id": "5kYxcUwCipft",
        "outputId": "f33d42da-835e-4ffa-9ac5-7c72055a3943",
        "colab": {
          "base_uri": "https://localhost:8080/"
        }
      },
      "source": [
        "type(positivo)"
      ],
      "execution_count": 80,
      "outputs": [
        {
          "output_type": "execute_result",
          "data": {
            "text/plain": [
              "bool"
            ]
          },
          "metadata": {
            "tags": []
          },
          "execution_count": 80
        }
      ]
    },
    {
      "cell_type": "markdown",
      "metadata": {
        "id": "f5ESoRj_8muw"
      },
      "source": [
        "### (1.2) Operadores\n",
        "\n",
        "Python oferece alguns tipos de operadores, sendo eles:  "
      ]
    },
    {
      "cell_type": "markdown",
      "metadata": {
        "id": "qBeeN10R8muw"
      },
      "source": [
        "   - Lógicos:\n",
        "        - or;\n",
        "        - and;\n",
        "        - not"
      ]
    },
    {
      "cell_type": "code",
      "metadata": {
        "id": "OH1qxCT28mux"
      },
      "source": [
        "true, false = True, False"
      ],
      "execution_count": 82,
      "outputs": []
    },
    {
      "cell_type": "markdown",
      "metadata": {
        "id": "hhPJ4i2Q8mux"
      },
      "source": [
        "Para os operadores **Lógicos**, temos o \"or\", que tem como intuito retornar uma condição \"ou\", ou seja, recebem operandos, e tem como intuito retornar um valor lógico. Vamos ver alguns exemplos"
      ]
    },
    {
      "cell_type": "code",
      "metadata": {
        "id": "AvfPUBuQ8mux",
        "outputId": "2f90c3f7-acfd-4c2a-a79e-fd83bf172349",
        "colab": {
          "base_uri": "https://localhost:8080/"
        }
      },
      "source": [
        "print(true or false)\n",
        "# Perceba que a condição retornou  True, pois  ele considera\n",
        "# a ideia de \"união de eventos\". Nesse caso, como a primeira\n",
        "# condição foi True, ele não precisou verificar a segunda,\n",
        "# ja retornou True."
      ],
      "execution_count": 83,
      "outputs": [
        {
          "output_type": "stream",
          "text": [
            "True\n"
          ],
          "name": "stdout"
        }
      ]
    },
    {
      "cell_type": "code",
      "metadata": {
        "id": "6EtCd5-T8muy",
        "outputId": "d3684953-e26b-4294-a72b-60747d04fdd3",
        "colab": {
          "base_uri": "https://localhost:8080/"
        }
      },
      "source": [
        "print(false or true)\n",
        "# Nesse caso, ele verifica a segunda condição."
      ],
      "execution_count": 84,
      "outputs": [
        {
          "output_type": "stream",
          "text": [
            "True\n"
          ],
          "name": "stdout"
        }
      ]
    },
    {
      "cell_type": "markdown",
      "metadata": {
        "id": "AhmDJ4ou8muy"
      },
      "source": [
        "Considerando agora o operador \"and\", temos que simboliza a \"interseção\" de duas condições, caso a primeira não seja satisfeita, teremos logo de cara o retorno **False**."
      ]
    },
    {
      "cell_type": "code",
      "metadata": {
        "id": "Ea1wMXCP8muy",
        "outputId": "20cb1e32-a96d-4142-f7dd-684c322251cd",
        "colab": {
          "base_uri": "https://localhost:8080/"
        }
      },
      "source": [
        "# ambas condições sendo verdadeiras\n",
        "print(true and true)"
      ],
      "execution_count": 85,
      "outputs": [
        {
          "output_type": "stream",
          "text": [
            "True\n"
          ],
          "name": "stdout"
        }
      ]
    },
    {
      "cell_type": "code",
      "metadata": {
        "id": "IfA3Nbpl8muz",
        "outputId": "1a861977-d265-48ff-c30c-72d742eaf899",
        "colab": {
          "base_uri": "https://localhost:8080/"
        }
      },
      "source": [
        "# primeira condição false\n",
        "print(false and true)"
      ],
      "execution_count": 86,
      "outputs": [
        {
          "output_type": "stream",
          "text": [
            "False\n"
          ],
          "name": "stdout"
        }
      ]
    },
    {
      "cell_type": "code",
      "metadata": {
        "id": "51xDQAch8muz",
        "outputId": "dc474be3-29b7-4e24-a7ce-4d83d6f5d865"
      },
      "source": [
        "# segunda condição false, verifica a segunda  condição\n",
        "print(true and false)"
      ],
      "execution_count": null,
      "outputs": [
        {
          "output_type": "stream",
          "text": [
            "False\n"
          ],
          "name": "stdout"
        }
      ]
    },
    {
      "cell_type": "markdown",
      "metadata": {
        "id": "8Q0FgmzN8muz"
      },
      "source": [
        "Por fim, temos o \"not\", que simplesmente significa negação, ele torna a condição verdadeira, falsa, e a false como verdadeira."
      ]
    },
    {
      "cell_type": "code",
      "metadata": {
        "id": "2t5lOlED8mu0",
        "outputId": "cece8991-2cd5-44ca-d3e0-d31647f75ac0",
        "colab": {
          "base_uri": "https://localhost:8080/"
        }
      },
      "source": [
        "print(not true)"
      ],
      "execution_count": 87,
      "outputs": [
        {
          "output_type": "stream",
          "text": [
            "False\n"
          ],
          "name": "stdout"
        }
      ]
    },
    {
      "cell_type": "code",
      "metadata": {
        "id": "1vxKe1bu8mu0",
        "outputId": "b3c1a816-f2de-49ff-b6ee-a50f59cb0544",
        "colab": {
          "base_uri": "https://localhost:8080/"
        }
      },
      "source": [
        "print(not false)"
      ],
      "execution_count": 88,
      "outputs": [
        {
          "output_type": "stream",
          "text": [
            "True\n"
          ],
          "name": "stdout"
        }
      ]
    },
    {
      "cell_type": "markdown",
      "metadata": {
        "id": "V3KIj3tn8mu0"
      },
      "source": [
        "Agora temos os **relacionais**, temos:\n",
        "\n",
        "   - menor que (<);   \n",
        "   - maior que (>);   \n",
        "   - menor ou igual que (<=);   \n",
        "   - maior ou igual que (>=);   \n",
        "   - igualdade (==)\n",
        "    \n",
        "Esses operadores são os mais básicos e que estamos mais acostumados a ver, principalmente em condições como intervalo. Vamos ver alguns exemplos:"
      ]
    },
    {
      "cell_type": "code",
      "metadata": {
        "id": "owil_lnV8mu1",
        "outputId": "e47998a8-3dbe-4c8e-83b1-178ad11d6f23",
        "colab": {
          "base_uri": "https://localhost:8080/"
        }
      },
      "source": [
        "print( 10.1 > 2 )\n",
        "print()\n",
        "print( 1 < 2 )\n",
        "print()\n",
        "print( 1 == 2 )"
      ],
      "execution_count": 91,
      "outputs": [
        {
          "output_type": "stream",
          "text": [
            "True\n",
            "\n",
            "True\n",
            "\n",
            "False\n"
          ],
          "name": "stdout"
        }
      ]
    },
    {
      "cell_type": "markdown",
      "metadata": {
        "id": "LSurfevE8mu1"
      },
      "source": [
        "Por fim, temos os operadores **aritméticos**, onde tempos operações matemáticas relacionadas. Vamos ver alguns exemplos:\n",
        "\n",
        "| Operador | Exemplo   | Resultado |   |\n",
        "|----------|-----------|-----------|---|\n",
        "| v1 + v2  | 1 + 2     | 3         |   |\n",
        "| v1 + v2  | 1 + False | 1         |   |\n",
        "| v1 - v2  | 2 - 1     | 1         |   |\n",
        "| v1**(-1) | 10**(-1)  | 0.1       |   |\n",
        "| v1/v2    | 1/2       | 0.5       |   |\n",
        "| v1%v2    | 1%2       | 1         |   |\n",
        "| v2%v1    | 2%1       | 0         |   |"
      ]
    },
    {
      "cell_type": "code",
      "metadata": {
        "id": "fcN-DZULlzTI",
        "outputId": "accd5b70-b495-40c5-9fa3-d4fe7f526f83",
        "colab": {
          "base_uri": "https://localhost:8080/"
        }
      },
      "source": [
        "# Exemplo de adição\n",
        "a = 10\n",
        "b = 10\n",
        "\n",
        "a + b"
      ],
      "execution_count": 93,
      "outputs": [
        {
          "output_type": "execute_result",
          "data": {
            "text/plain": [
              "20"
            ]
          },
          "metadata": {
            "tags": []
          },
          "execution_count": 93
        }
      ]
    },
    {
      "cell_type": "code",
      "metadata": {
        "id": "Bzy74WQ8l4on",
        "outputId": "11300a1a-adfa-4b42-c4a9-cc90bb38ab21",
        "colab": {
          "base_uri": "https://localhost:8080/"
        }
      },
      "source": [
        "# Exemplo de multiplicação\n",
        "\n",
        "a * b"
      ],
      "execution_count": 94,
      "outputs": [
        {
          "output_type": "execute_result",
          "data": {
            "text/plain": [
              "100"
            ]
          },
          "metadata": {
            "tags": []
          },
          "execution_count": 94
        }
      ]
    },
    {
      "cell_type": "code",
      "metadata": {
        "id": "7ZMLlBdMmIM7",
        "outputId": "aa2cd621-4d2f-4961-9269-660039620165",
        "colab": {
          "base_uri": "https://localhost:8080/"
        }
      },
      "source": [
        "# Exemplo exponenciação\n",
        "\n",
        "a ** b"
      ],
      "execution_count": 96,
      "outputs": [
        {
          "output_type": "execute_result",
          "data": {
            "text/plain": [
              "10000000000"
            ]
          },
          "metadata": {
            "tags": []
          },
          "execution_count": 96
        }
      ]
    },
    {
      "cell_type": "code",
      "metadata": {
        "id": "8tUpcRAnmApv",
        "outputId": "31d55ba5-f8c6-45b3-d82b-658b282e4b63",
        "colab": {
          "base_uri": "https://localhost:8080/"
        }
      },
      "source": [
        "# Exemplo de divisão\n",
        "\n",
        "a / b"
      ],
      "execution_count": 95,
      "outputs": [
        {
          "output_type": "execute_result",
          "data": {
            "text/plain": [
              "1.0"
            ]
          },
          "metadata": {
            "tags": []
          },
          "execution_count": 95
        }
      ]
    },
    {
      "cell_type": "code",
      "metadata": {
        "id": "DQA_sK8jmWWV",
        "outputId": "e16c94b5-999a-4bda-d558-2f280c889f1a",
        "colab": {
          "base_uri": "https://localhost:8080/"
        }
      },
      "source": [
        "# Exemplo de resto de divisão\n",
        "\n",
        "c = 10\n",
        "d = 2\n",
        "\n",
        "10 % 2"
      ],
      "execution_count": 99,
      "outputs": [
        {
          "output_type": "execute_result",
          "data": {
            "text/plain": [
              "0"
            ]
          },
          "metadata": {
            "tags": []
          },
          "execution_count": 99
        }
      ]
    },
    {
      "cell_type": "markdown",
      "metadata": {
        "id": "Pod5LMeB8mu1"
      },
      "source": [
        "### (1.3) Coleções\n",
        "\n",
        "Coleções se resumen a estruturas de dados que permitem multiplos valores e até de diferentes tipos. Temos os seguintes principais tipos:\n",
        "\n",
        "- Listas (list);\n",
        "- tuplas (tuple);\n",
        "- intervalos (range);\n",
        "- textos (str);\n",
        "- dicionários (dict)."
      ]
    },
    {
      "cell_type": "markdown",
      "metadata": {
        "id": "gi5NAGD-8mu2"
      },
      "source": [
        "#### (1.3.1) Listas\n",
        "\n",
        "Em suma, a lista é uma coleção do tipo mutável (mas nem sempre). Normalmente, as listas são utilizadas para armazenar itens homogêneos (mesmo tipo). Vamos criar algumas listas de formas diferentes:"
      ]
    },
    {
      "cell_type": "code",
      "metadata": {
        "id": "GKTTkX-58mu2"
      },
      "source": [
        "a = [] # lista vazia\n",
        "b = [0,1,2] # lista com valores\n",
        "c = list()"
      ],
      "execution_count": null,
      "outputs": []
    },
    {
      "cell_type": "code",
      "metadata": {
        "id": "pDGkpERo8mu3",
        "outputId": "81c373a0-993e-4d22-feac-3b24663c6fa9"
      },
      "source": [
        "print(type(a),type(b),type(c))"
      ],
      "execution_count": null,
      "outputs": [
        {
          "output_type": "stream",
          "text": [
            "<class 'list'> <class 'list'> <class 'list'>\n"
          ],
          "name": "stdout"
        }
      ]
    },
    {
      "cell_type": "markdown",
      "metadata": {
        "id": "AgKYkFh98mu3"
      },
      "source": [
        "**Verificando item existente em uma lista**   \n",
        "Em muitos casos, é interessante verificarmos se existe um iten dentro da lista, sendo verificado da seguinte forma:"
      ]
    },
    {
      "cell_type": "code",
      "metadata": {
        "id": "VZtWwOQW8mu3",
        "outputId": "713060df-2310-4f0b-be2e-e8cc10329a34"
      },
      "source": [
        "a =[1,2,3]\n",
        "\n",
        "2 in a"
      ],
      "execution_count": null,
      "outputs": [
        {
          "output_type": "execute_result",
          "data": {
            "text/plain": [
              "True"
            ]
          },
          "metadata": {
            "tags": []
          },
          "execution_count": 66
        }
      ]
    },
    {
      "cell_type": "code",
      "metadata": {
        "id": "jEKRO4y38mu4",
        "outputId": "042ac75b-5784-4473-cf12-43d02cae62fa"
      },
      "source": [
        "# ou\n",
        "'a' in ['a', 'b', 'c']"
      ],
      "execution_count": null,
      "outputs": [
        {
          "output_type": "execute_result",
          "data": {
            "text/plain": [
              "True"
            ]
          },
          "metadata": {
            "tags": []
          },
          "execution_count": 67
        }
      ]
    },
    {
      "cell_type": "code",
      "metadata": {
        "id": "t06kxNk08mu4",
        "outputId": "1ecd53c9-8402-4d4b-dcf6-e98c02428538"
      },
      "source": [
        "# verificando se um item não esta em uma lista\n",
        "'a' not in ['a', 'b', 'c']"
      ],
      "execution_count": null,
      "outputs": [
        {
          "output_type": "execute_result",
          "data": {
            "text/plain": [
              "False"
            ]
          },
          "metadata": {
            "tags": []
          },
          "execution_count": 68
        }
      ]
    },
    {
      "cell_type": "markdown",
      "metadata": {
        "id": "is_3welG8mu4"
      },
      "source": [
        "**Concatenando listas**   \n",
        "Também pode ser interessante para nos, concatenarmos listas. Fazemos da seguinte forma:"
      ]
    },
    {
      "cell_type": "code",
      "metadata": {
        "id": "H1-uzkwQ8mu5",
        "outputId": "416e980a-92f3-4c5f-a06a-7e5367f8a6df"
      },
      "source": [
        "l1, l2 = [1,2], [3,4]\n",
        "l1 + l2"
      ],
      "execution_count": null,
      "outputs": [
        {
          "output_type": "execute_result",
          "data": {
            "text/plain": [
              "[1, 2, 3, 4]"
            ]
          },
          "metadata": {
            "tags": []
          },
          "execution_count": 69
        }
      ]
    },
    {
      "cell_type": "code",
      "metadata": {
        "id": "uFmVaCgm8mu5",
        "outputId": "5f43a586-7679-4d67-ee5b-92d4808cc434"
      },
      "source": [
        "# Ou até mesmo replicar os valores de uma lista\n",
        "# um número x de vezes que quisermos.\n",
        "alpha = 3\n",
        "l1*alpha"
      ],
      "execution_count": null,
      "outputs": [
        {
          "output_type": "execute_result",
          "data": {
            "text/plain": [
              "[1, 2, 1, 2, 1, 2]"
            ]
          },
          "metadata": {
            "tags": []
          },
          "execution_count": 70
        }
      ]
    },
    {
      "cell_type": "code",
      "metadata": {
        "id": "A3n_0UgO8mu5",
        "outputId": "12ff9d98-3f3b-45d7-a44e-7fb6c9b17cf2"
      },
      "source": [
        "# Outro método interessante, nativo do proprio python,\n",
        "# é o len(), onde podemos verificar o tamanho de uma \n",
        "# lista\n",
        "len(l1)"
      ],
      "execution_count": null,
      "outputs": [
        {
          "output_type": "execute_result",
          "data": {
            "text/plain": [
              "2"
            ]
          },
          "metadata": {
            "tags": []
          },
          "execution_count": 71
        }
      ]
    },
    {
      "cell_type": "markdown",
      "metadata": {
        "id": "hAOa-tpq8mu6"
      },
      "source": [
        "**Acessando elementos de uma lista, por meio dos indices**   \n",
        "Pos acessar de maneira simples os elementos de uma lista, por meio dos seus índices. Vale ressaltar que o python começa do índice \"0\"."
      ]
    },
    {
      "cell_type": "code",
      "metadata": {
        "id": "TF1jPOqQ8mu6"
      },
      "source": [
        "l = [1,5,2,2.2,3,4,5,6,8]"
      ],
      "execution_count": null,
      "outputs": []
    },
    {
      "cell_type": "code",
      "metadata": {
        "id": "4o0Kn2tj8mu6",
        "outputId": "7fa56412-0131-4634-8ccd-bcbc628d8110"
      },
      "source": [
        "print(l[1])"
      ],
      "execution_count": null,
      "outputs": [
        {
          "output_type": "stream",
          "text": [
            "5\n"
          ],
          "name": "stdout"
        }
      ]
    },
    {
      "cell_type": "code",
      "metadata": {
        "id": "bo23AqzF8mu6",
        "outputId": "c1c73893-2f0d-4d02-cbab-8e91a0b3f489"
      },
      "source": [
        "# ou podemos até acessar valores em uma lista, por meio\n",
        "# de intervalos\n",
        "l[0:3] # 3 primeiros elementos da lista"
      ],
      "execution_count": null,
      "outputs": [
        {
          "output_type": "execute_result",
          "data": {
            "text/plain": [
              "[1, 5, 2]"
            ]
          },
          "metadata": {
            "tags": []
          },
          "execution_count": 74
        }
      ]
    },
    {
      "cell_type": "code",
      "metadata": {
        "id": "yj3w1_8p8mu7",
        "outputId": "558b196a-56a9-4f42-a6cd-4789657a0322"
      },
      "source": [
        "# Além disso, podemos definir intervalos de saltos para a \n",
        "# seleção dos elementos em uma lista\n",
        "l[0:4:3] # salto 3"
      ],
      "execution_count": null,
      "outputs": [
        {
          "output_type": "execute_result",
          "data": {
            "text/plain": [
              "[1, 2.2]"
            ]
          },
          "metadata": {
            "tags": []
          },
          "execution_count": 75
        }
      ]
    },
    {
      "cell_type": "markdown",
      "metadata": {
        "id": "IQ_7-RiN8mu7"
      },
      "source": [
        "**Alterando internamento em uma lista**\n",
        "\n",
        "Para esta função, temos alguns métodos próprios de uma variável do tipo lista, sendo eles:"
      ]
    },
    {
      "cell_type": "code",
      "metadata": {
        "id": "PF8MsPR28mu7"
      },
      "source": [
        "l = [1,2,3,3,4]"
      ],
      "execution_count": null,
      "outputs": []
    },
    {
      "cell_type": "code",
      "metadata": {
        "id": "Z9wVEgvI8mu8",
        "outputId": "ac5a6c24-ed4a-4079-c4bf-0274b8c11543"
      },
      "source": [
        "# list.append()\n",
        "l.append(100) # Adicionamos elementos novos ao final da lista\n",
        "l"
      ],
      "execution_count": null,
      "outputs": [
        {
          "output_type": "execute_result",
          "data": {
            "text/plain": [
              "[1, 2, 3, 3, 4, 100]"
            ]
          },
          "metadata": {
            "tags": []
          },
          "execution_count": 77
        }
      ]
    },
    {
      "cell_type": "code",
      "metadata": {
        "id": "2QhlCEhe8mu8",
        "outputId": "4a264019-c1d2-4391-ac2c-0dac1179bbbc"
      },
      "source": [
        "# list.insert()\n",
        "# Adicionamos um elemento em uma posição x\n",
        "l.insert(0, 99)\n",
        "l"
      ],
      "execution_count": null,
      "outputs": [
        {
          "output_type": "execute_result",
          "data": {
            "text/plain": [
              "[99, 1, 2, 3, 3, 4, 100]"
            ]
          },
          "metadata": {
            "tags": []
          },
          "execution_count": 78
        }
      ]
    },
    {
      "cell_type": "code",
      "metadata": {
        "id": "oSwlQ8f98mu8",
        "outputId": "380a4108-8e46-4372-fbfc-5277b22091e7"
      },
      "source": [
        "# list.extend()\n",
        "# adicionamos elementos de uma outra lista, \n",
        "# ao final da lista.\n",
        "l.extend( [21,57, 199] )\n",
        "l"
      ],
      "execution_count": null,
      "outputs": [
        {
          "output_type": "execute_result",
          "data": {
            "text/plain": [
              "[99, 1, 2, 3, 3, 4, 100, 21, 57, 199]"
            ]
          },
          "metadata": {
            "tags": []
          },
          "execution_count": 79
        }
      ]
    },
    {
      "cell_type": "markdown",
      "metadata": {
        "id": "OtkuYYUe8mu9"
      },
      "source": [
        "#### (1.3.2) Tuplas\n",
        "\n",
        "As tuplas são normalmente utilizadas para armazenar dados heterogêneos, porém sendo ela imutável. Vamos criar algumas tuplas de formas diferentes:"
      ]
    },
    {
      "cell_type": "code",
      "metadata": {
        "id": "m1oavkUX8mu9"
      },
      "source": [
        "tp = () # tupla vazia\n",
        "tp = (1,2) # tupla com valores\n",
        "tp = tuple() # utilizando o método nativo tuple()"
      ],
      "execution_count": null,
      "outputs": []
    },
    {
      "cell_type": "code",
      "metadata": {
        "id": "HKxx7l-n8mu9",
        "outputId": "38f6a4cd-0375-4c03-a625-5057e037da13"
      },
      "source": [
        "# Perceba oque ser imutavel significa:\n",
        "tp = (1,2)\n",
        "tp[0] = 4"
      ],
      "execution_count": null,
      "outputs": [
        {
          "output_type": "error",
          "ename": "TypeError",
          "evalue": "'tuple' object does not support item assignment",
          "traceback": [
            "\u001b[0;31m---------------------------------------------------------------------------\u001b[0m",
            "\u001b[0;31mTypeError\u001b[0m                                 Traceback (most recent call last)",
            "\u001b[0;32m<ipython-input-81-b2b43a9ef294>\u001b[0m in \u001b[0;36m<module>\u001b[0;34m\u001b[0m\n\u001b[1;32m      1\u001b[0m \u001b[0;31m# Perceba oque ser imutavel significa:\u001b[0m\u001b[0;34m\u001b[0m\u001b[0;34m\u001b[0m\u001b[0;34m\u001b[0m\u001b[0m\n\u001b[1;32m      2\u001b[0m \u001b[0mtp\u001b[0m \u001b[0;34m=\u001b[0m \u001b[0;34m(\u001b[0m\u001b[0;36m1\u001b[0m\u001b[0;34m,\u001b[0m\u001b[0;36m2\u001b[0m\u001b[0;34m)\u001b[0m\u001b[0;34m\u001b[0m\u001b[0;34m\u001b[0m\u001b[0m\n\u001b[0;32m----> 3\u001b[0;31m \u001b[0mtp\u001b[0m\u001b[0;34m[\u001b[0m\u001b[0;36m0\u001b[0m\u001b[0;34m]\u001b[0m \u001b[0;34m=\u001b[0m \u001b[0;36m4\u001b[0m\u001b[0;34m\u001b[0m\u001b[0;34m\u001b[0m\u001b[0m\n\u001b[0m",
            "\u001b[0;31mTypeError\u001b[0m: 'tuple' object does not support item assignment"
          ]
        }
      ]
    },
    {
      "cell_type": "markdown",
      "metadata": {
        "id": "hbficEtH8mu9"
      },
      "source": [
        "#### (1.3.3) Textos   \n",
        "\n",
        "Nos consideramos dados do tipo texto, como strings (str), também são coleções imutáveis. Existem algumas formas distintas de criarmos variáveis do tipo texto, sendo eles:\n",
        "\n",
        "- Com aspas simples ( ' ' );\n",
        "- Com aspas duplas ( \" \" );\n",
        "- Com 3 aspas simples ou duplas ( '''  ''' )\n",
        "    - Esse tipo permite a inclusão de espaços no meio do texto informado"
      ]
    },
    {
      "cell_type": "code",
      "metadata": {
        "id": "zDLzFvBr8mu-"
      },
      "source": [
        "# Exemplo do ''' '''\n",
        "print(\n",
        "'''\n",
        "Esse é um texto de exemplo\n",
        "\n",
        "Entende oque eu digo ?\n",
        "'''\n",
        ")"
      ],
      "execution_count": null,
      "outputs": []
    },
    {
      "cell_type": "markdown",
      "metadata": {
        "id": "jz7sFVyc8mu-"
      },
      "source": [
        "Além disso, da mesma forma que podemos acessar valores em uma lista, podemos acessar informações especificas em uma string, até mesmo intervalos especificados"
      ]
    },
    {
      "cell_type": "code",
      "metadata": {
        "id": "lt75bBlw8mu-"
      },
      "source": [
        "\"TAIL CURSO PYTHON\"[0]"
      ],
      "execution_count": null,
      "outputs": []
    },
    {
      "cell_type": "code",
      "metadata": {
        "id": "ftosLRKy8mu-"
      },
      "source": [
        "\"TAIL CURSO PYTHON\"[:4]"
      ],
      "execution_count": null,
      "outputs": []
    },
    {
      "cell_type": "code",
      "metadata": {
        "id": "VuiPtZ208mu_"
      },
      "source": [
        "\"TAIL CURSO PYTHON\"[5:10]"
      ],
      "execution_count": null,
      "outputs": []
    },
    {
      "cell_type": "code",
      "metadata": {
        "id": "rbjxK7TN8mu_"
      },
      "source": [
        "\"TAIL CURSO PYTHON\"[::(2)]"
      ],
      "execution_count": null,
      "outputs": []
    },
    {
      "cell_type": "code",
      "metadata": {
        "id": "dLVvYMKN8mu_"
      },
      "source": [
        "# Podemos verificar se uma string esta contida em outra\n",
        "# string\n",
        "\"TAIL\" in \"TAIL CURSO PYTHON\""
      ],
      "execution_count": null,
      "outputs": []
    },
    {
      "cell_type": "code",
      "metadata": {
        "id": "22WNexwS8mu_"
      },
      "source": [
        "\"TAIL\" not in \"TAIL CURSO PYTHON\""
      ],
      "execution_count": null,
      "outputs": []
    },
    {
      "cell_type": "markdown",
      "metadata": {
        "id": "_MuqUiWO8mvA"
      },
      "source": [
        "**Concatenando strings**  \n",
        "Podemos concatenar strings da forma mais simples possivel, utilizando um operador aritmetico \"+\". Vamos ver alguns exemplos:"
      ]
    },
    {
      "cell_type": "code",
      "metadata": {
        "id": "oB73ih-J8mvA"
      },
      "source": [
        "print(\"TAIL \" + \"CURSO\" + \" PYTHON\")\n",
        "print()\n",
        "print(\"TAIL \" \"CURSO\" \" PYTHON\") # outra forma"
      ],
      "execution_count": null,
      "outputs": []
    },
    {
      "cell_type": "code",
      "metadata": {
        "id": "dFXcux-98mvA"
      },
      "source": [
        "# Outrsa forma, é utilizarmos o método  .join() do proprio\n",
        "# string. Da seguinte forma:\n",
        "print( ' '.join(['TAIL', 'CURSO', 'PYTHON']) )"
      ],
      "execution_count": null,
      "outputs": []
    },
    {
      "cell_type": "markdown",
      "metadata": {
        "id": "g4Trq_Ao8mvA"
      },
      "source": [
        "Mais alguns métodos similares ao .join():\n",
        "\n",
        "- str.split( char ):\n",
        "    - Quebra uma string, separando por \"char\" (você escolhe o separador)\n",
        "- str.lower( ):\n",
        "    - Coloca todos os caracteres em caixa baixa\n",
        "- str.upper( ):\n",
        "    - Coloca os caracteres em caixa alta\n",
        "- str.title( ):\n",
        "    - Coloca a string em formato de título (Primeireas letras de cada palavra fica maiúsculas e as demais minúsculas)"
      ]
    },
    {
      "cell_type": "markdown",
      "metadata": {
        "id": "kQAzK6Vn8mvB"
      },
      "source": [
        "#### (1.3.4) Dicionários\n",
        "Dicionários são tipos de coleções mutáveis, onde podemos mapear seu conteúdo por chaves únicas, podendo ser de varios tipo, lista, dicionários, strings, inteiros ou outros. Eles tem um \"parentesco\" muito comum com arquivos do tipo json. Um dicionário pode ser criado de várias formas, algumas delas são:"
      ]
    },
    {
      "cell_type": "code",
      "metadata": {
        "id": "k2oY7sxk8mvB"
      },
      "source": [
        "dic = { } # Dicionário vazio\n",
        "dic"
      ],
      "execution_count": null,
      "outputs": []
    },
    {
      "cell_type": "code",
      "metadata": {
        "id": "JMOPtyKL8mvB"
      },
      "source": [
        "dic = {\n",
        "    'key1': 'str',\n",
        "    'key2': 2,\n",
        "    'key3': [3,4,5]\n",
        "}\n",
        "dic"
      ],
      "execution_count": null,
      "outputs": []
    },
    {
      "cell_type": "markdown",
      "metadata": {
        "id": "3qU6-7eV8mvB"
      },
      "source": [
        "#### (1.3.4.1) Algumas operações com dicionários\n",
        "\n",
        "Abaixo, vamos definir algumas operações importantes que podemos fazer com uma variável do tipo dicionário:"
      ]
    },
    {
      "cell_type": "code",
      "metadata": {
        "id": "-zjaLgpb8mvB"
      },
      "source": [
        "dic = {\n",
        "    'key1': 'str',\n",
        "    'key2': 2,\n",
        "    'key3': [3,4,5]\n",
        "}"
      ],
      "execution_count": null,
      "outputs": []
    },
    {
      "cell_type": "code",
      "metadata": {
        "id": "Ml4rTxtV8mvC"
      },
      "source": [
        "# Adicionando uma chave nova\n",
        "dic['key4'] = 4\n",
        "dic"
      ],
      "execution_count": null,
      "outputs": []
    },
    {
      "cell_type": "code",
      "metadata": {
        "id": "yCC_-07E8mvC"
      },
      "source": [
        "# Excluindo uma chave\n",
        "del dic['key4']\n",
        "dic"
      ],
      "execution_count": null,
      "outputs": []
    },
    {
      "cell_type": "code",
      "metadata": {
        "id": "08e8OcTO8mvD"
      },
      "source": [
        "# Note que se tentarmos retirar novamente a chave anterior,\n",
        "# obteremos um erro, pois a chave foi retirada internamente\n",
        "# do objeto \"dic\", e atualizado sobre ele mesmo.\n",
        "del dic['key4']"
      ],
      "execution_count": null,
      "outputs": []
    },
    {
      "cell_type": "markdown",
      "metadata": {
        "id": "A2gqlEiU8mvD"
      },
      "source": [
        "**Verificando se uma chave esta dentro da variável**   \n",
        "Lembra-se do \"in\" ? Pois bem, podemos verificar a existência de uma chave dentro de um dicionário da seguinte forma:"
      ]
    },
    {
      "cell_type": "code",
      "metadata": {
        "id": "IAwoy7I78mvD"
      },
      "source": [
        "# se queremos ver se está dentro \n",
        "'key1' in dic"
      ],
      "execution_count": null,
      "outputs": []
    },
    {
      "cell_type": "code",
      "metadata": {
        "id": "PAQWlPer8mvE"
      },
      "source": [
        "# se queremos ver se não esta dentro \n",
        "'key1' not in dic"
      ],
      "execution_count": null,
      "outputs": []
    },
    {
      "cell_type": "markdown",
      "metadata": {
        "id": "SBmxn6738mvE"
      },
      "source": [
        "**Acessando as chaves e os valores das chaves de um dicionário**   \n",
        "Podemos acessar os nomes das chaves e os valores dentro delas utilizando os métodos próprios de um dicionário, dict.keys() e dict.values(), da seguinte forma:"
      ]
    },
    {
      "cell_type": "code",
      "metadata": {
        "id": "kTURcW2N8mvE"
      },
      "source": [
        "# Acessando os nomes das chaves\n",
        "dic.keys()"
      ],
      "execution_count": null,
      "outputs": []
    },
    {
      "cell_type": "code",
      "metadata": {
        "id": "UsHqH68S8mvE"
      },
      "source": [
        "# Acessando os valores das chaves\n",
        "dic.values()"
      ],
      "execution_count": null,
      "outputs": []
    },
    {
      "cell_type": "markdown",
      "metadata": {
        "id": "9zUcH7LC8mvF"
      },
      "source": [
        "### (1.4) Condições e Laços\n",
        "\n",
        "Poderemos ver nesta seção um pouco sobre condições, que são estruturas para uma determinada tomada de decisão. Além disso, veremos sobre **Laços**, que são estruturas em blocos, onde cada bloco pode desempenhar tarefas distintas ou sub-tarefas. Em muitas linguagens, blocos são limitados por algum caracter, porém no Python existe uma diferença, ela se organiza de forma **identada** para organização dos seus blocos de tarefa. Vamos ver um bloco de código onde demonstramos a identação do python:"
      ]
    },
    {
      "cell_type": "markdown",
      "metadata": {
        "id": "qw5oArdX8mvF"
      },
      "source": [
        "#### (1.4.1) Condições"
      ]
    },
    {
      "cell_type": "code",
      "metadata": {
        "id": "HdWFVWSY8mvF"
      },
      "source": [
        "def soma(x,y):\n",
        "    # Perceba o \"salto\" da esquerda para a direita.\n",
        "    # Aqui estamos em um bloco interno do método\n",
        "    # SOMA() que criamos.\n",
        "    valor = x + y\n",
        "    return valor\n",
        "soma(2,3)"
      ],
      "execution_count": null,
      "outputs": []
    },
    {
      "cell_type": "code",
      "metadata": {
        "id": "EHqULUyJ8mvF"
      },
      "source": [
        "# Perceba que não respeitando a identação correta, obtemos\n",
        "# um erro.\n",
        "\n",
        "def soma(x,y):\n",
        "    # Perceba o \"salto\" da esquerda para a direita.\n",
        "    # Aqui estamos em um bloco interno do método\n",
        "    # SOMA() que criamos.\n",
        "valor = x + y\n",
        "    return valor\n",
        "soma(2,3)\n",
        "\n",
        "# Note o erro do tipo \"IndentationError\", ao colocarmos\n",
        "# uma variavel fora do bloco de identação"
      ],
      "execution_count": null,
      "outputs": []
    },
    {
      "cell_type": "markdown",
      "metadata": {
        "id": "F2Z_zAeN8mvG"
      },
      "source": [
        "Abaixo vemos um exemplo de estrutura de condição básica do python, onde a sua tarefa esta sujeita a uma condição, onde deve realizar tarefas diferentes baseada em uma condição.\n",
        "\n",
        "\n",
        "![img](https://tmfilho.github.io/pyestbook/_images/flow-if.svg)"
      ]
    },
    {
      "cell_type": "markdown",
      "metadata": {
        "id": "oUUgHcON8mvG"
      },
      "source": [
        "Como podemos ver o fluxograma acima, temos uma situação que é a **entrevista de emprego**, onde o sujeito será perguntado: **Sabe Python ?**. A partir dessa condição, **se** a resposta for **Sim**, você esta contratado, **caso contrário**, está demitido. Essa estrutura pode ser transcrita para um código da seguinte forma:"
      ]
    },
    {
      "cell_type": "code",
      "metadata": {
        "id": "zXICNJ9L8mvG"
      },
      "source": [
        "# Input é um método nativo do python, onde trabalhamso de forma \n",
        "# interativa com o código.\n",
        "knows_python = str(input('Do you know python ? ')).lower()\n",
        "\n",
        "if knows_python in ['sim','yes']:\n",
        "    situation = 'hired'\n",
        "else:\n",
        "    situation = 'unemployed'\n",
        "\n",
        "situation\n"
      ],
      "execution_count": null,
      "outputs": []
    },
    {
      "cell_type": "markdown",
      "metadata": {
        "id": "DbXT2TV_8mvG"
      },
      "source": [
        "Perceba que os blocos **if** e **else** são disjuntos, ou seja, se criarmos uma variável dentro do bloco **if**, ela basicamente não poderá ser chamada dentro do else, caso a condição não seja verdadeira do if. Análogo é caso a variável esteja dentro do **else**. Caso a mesma variável esteja sendo inicializada em ambos, porém com valores distintos, não teremos um error e sim irá imprimir o objeto armazenado respectivo. Um exemplo:"
      ]
    },
    {
      "cell_type": "code",
      "metadata": {
        "id": "Vq_h3rK_8mvH"
      },
      "source": [
        "knows_python = str(input('Do you know python ? ')).lower()\n",
        "\n",
        "if knows_python in ['sim','yes']:\n",
        "    situation = 'hired'\n",
        "    phrase = ' ,congratulations !'\n",
        "else:\n",
        "    situation = 'unemployed'\n",
        "    phrase = ' , sorry, bye !'\n",
        "\n",
        "situation + phrase"
      ],
      "execution_count": null,
      "outputs": []
    },
    {
      "cell_type": "markdown",
      "metadata": {
        "id": "P6T2jeyn8mvH"
      },
      "source": [
        "Além disso, podemos encadear quantas condições quisermos, uma dentro da outra, e dentro da outra, e dentro da outra ... mas encadearmos muitos laços e condições não é uma boa prática de programação, então tenham em mente isso."
      ]
    },
    {
      "cell_type": "markdown",
      "metadata": {
        "id": "5KGaO8p68mvH"
      },
      "source": [
        "#### (1.4.2) Laços\n",
        "\n",
        "Laços como anteriormente ditos, são estruturas feitas em blocos, onde são feitos com o intuito de repetir determinada tarefa um número finito de vezes. As estruturas mais comuns de repetição são o **while** (enquanto) e **for** (para cada)."
      ]
    },
    {
      "cell_type": "markdown",
      "metadata": {
        "id": "rUfG-cdz8mvH"
      },
      "source": [
        "##### (1.4.2.1) While\n",
        "Essa estrutura é dada como um bloco de código que repete-se enquanto uma condição for verdadeira, funcionando como um **if**  que se repete multiplas vezes. **Alert:** Cuidado ao usar um **while**, facilmente pode-se colocar uma estrutura para realizar repetições infinitas. Vamos ver um exemplo:"
      ]
    },
    {
      "cell_type": "code",
      "metadata": {
        "id": "4pkaBl_l8mvH"
      },
      "source": [
        "values, k = [], 1\n",
        "while len(values) != 10:\n",
        "    values.append(k) # adiciona valores novos dentro de uma lista\n",
        "    print(values)\n",
        "    k += 1"
      ],
      "execution_count": null,
      "outputs": []
    },
    {
      "cell_type": "markdown",
      "metadata": {
        "id": "1d6f7Zx58mvI"
      },
      "source": [
        "Podemos parar ou pular um pular uma iteração do while, basta adicionarmos uma condição em qual momento do while voce quer que ele faça isso. No nosso caso, vamos pular a terceira iteração, e parar na nona iteração, utilizando o **continue** e o **break**, respectivamente."
      ]
    },
    {
      "cell_type": "code",
      "metadata": {
        "id": "1eR-Pafd8mvI"
      },
      "source": [
        "k = 1\n",
        "while k != 11:\n",
        "    if k == 3:\n",
        "        k += 1\n",
        "        continue\n",
        "    elif k == 9:\n",
        "        break\n",
        "    print(k)\n",
        "    k += 1 "
      ],
      "execution_count": null,
      "outputs": []
    },
    {
      "cell_type": "markdown",
      "metadata": {
        "id": "86K4jGVH8mvI"
      },
      "source": [
        " A estrutura **elif** é tem basicamente o significado de **se não, tente isso também**."
      ]
    },
    {
      "cell_type": "markdown",
      "metadata": {
        "id": "Q8z5ys238mvI"
      },
      "source": [
        "##### (1.4.2.2) For\n",
        "A estrutura **for** basicamente realiza iterações sobre um intervalo, array, lista, chaves de um dicionário ou outros. Ele possuí o significado de \"para cada elemento, realize está tarefa\". \n",
        "\n",
        "Da mesma forma que o **while**, o for permite o uso de comandos como o **break** e **continue**, mas não é uma boa prática, pois o **for** itera sobre um conjunto finito, então ja sabemos o final da iteração, durante um while muitas vezes não sabemos o momento final das iterações."
      ]
    },
    {
      "cell_type": "code",
      "metadata": {
        "id": "3fetBFSl8mvJ"
      },
      "source": [
        "# Iterando sobre um range()\n",
        "v = [0,1,2,3,4,5,6,7,8,9]\n",
        "for i in range(len(v)):\n",
        "    print(v)\n",
        "    del v[-1]"
      ],
      "execution_count": null,
      "outputs": []
    },
    {
      "cell_type": "code",
      "metadata": {
        "id": "ta7KenPO8mvJ"
      },
      "source": [
        "# Iterando sobre uma variável do tipo list()\n",
        "v = []\n",
        "for i in [0,1,2,3,4,5,6,7,8,9]:\n",
        "    v.append(i)\n",
        "    print(v)"
      ],
      "execution_count": null,
      "outputs": []
    },
    {
      "cell_type": "code",
      "metadata": {
        "id": "QRaSVe3Z8mvJ"
      },
      "source": [
        "# Iterando sobre dicionários\n",
        "dic = {\n",
        "    'key1': {\n",
        "        'key1.1': [1,2]\n",
        "    },\n",
        "    'key2': {\n",
        "        'key1.2': [3,4]\n",
        "    }\n",
        "}\n",
        "for key in dic:\n",
        "    print(dic[key])\n",
        "print()\n",
        "print(key) # Perceba que o valor de key ficou salvo como o último\n",
        "         # da iteração do for, no caso, 'key2'."
      ],
      "execution_count": null,
      "outputs": []
    },
    {
      "cell_type": "code",
      "metadata": {
        "id": "YQGYtfCl8mvJ"
      },
      "source": [
        "# Iterando sobre uma string\n",
        "for i in 'TAIL CURSO BÁSICO':\n",
        "    print(i)"
      ],
      "execution_count": null,
      "outputs": []
    },
    {
      "cell_type": "code",
      "metadata": {
        "id": "Z-D5cUaB8mvK"
      },
      "source": [
        "# Utilizando o zip, para desempacotar a variáveis\n",
        "v1 = [0,1,2,3,4,5,6,7,8,9]\n",
        "v2 = [9,8,7,6,5,4,3,2,1,0]\n",
        "for i,j in zip(v1,v2):\n",
        "    print(i,j)"
      ],
      "execution_count": null,
      "outputs": []
    },
    {
      "cell_type": "markdown",
      "metadata": {
        "id": "CHwQKXuY8mvK"
      },
      "source": [
        "##### (1.4.2.3) List comprehension\n",
        "\n",
        "Compreensão de lista (_list comprehension_) é um mecanismo que permite construir coleções de forma concisa a partir dos resultados de operações sobre cada membro de outras coleções. Vamos ver um pequeno exemplo, onde preenchemos uma lista com valores determinados por um range(), elevados a ele mesmo, mais 1:"
      ]
    },
    {
      "cell_type": "code",
      "metadata": {
        "id": "3BSp9O3E8mvK"
      },
      "source": [
        "values = [ x**(x+1) for x in range(10) ]\n",
        "values"
      ],
      "execution_count": null,
      "outputs": []
    },
    {
      "cell_type": "code",
      "metadata": {
        "id": "547aDqme8mvK"
      },
      "source": [
        "# Além disso, podemos adicionar condições a essa estrutura\n",
        "div = [x/2 if x % 2 == 0 else x for x in range(10)]\n",
        "\n",
        "div"
      ],
      "execution_count": null,
      "outputs": []
    },
    {
      "cell_type": "markdown",
      "metadata": {
        "id": "0D79O-sS8mvK"
      },
      "source": [
        "### (1.5) Funções\n",
        "\n",
        "Funções são estruturas de códigos, feitos em blocos, que podem ser utilizados a qualquer momento, a partir da suca definição. A mesma pode possuir diversos argumentos, que são valores de entrada que são necessários para o seu uso. Para definirmos uma função, precisamos informar primeiro o **def**, e logo após, nome da função e argumentos. Vamos ver uma estrutura basica de uma função:"
      ]
    },
    {
      "cell_type": "code",
      "metadata": {
        "id": "Lse8SMPp8mvL"
      },
      "source": [
        "def function(argument):\n",
        "    # Code\n",
        "    print( f'Você informou {argument}')\n",
        "    return argument # retornando o proprio argumento\n",
        "\n",
        "function('TEST')"
      ],
      "execution_count": null,
      "outputs": []
    },
    {
      "cell_type": "code",
      "metadata": {
        "id": "bj8wBV9M8mvL"
      },
      "source": [
        "# Vamos verificar o tipo dessa função\n",
        "type(function) # de fato, uma função"
      ],
      "execution_count": null,
      "outputs": []
    },
    {
      "cell_type": "markdown",
      "metadata": {
        "id": "cxu7kppa8mvL"
      },
      "source": [
        "Além disso, uma função pode receber múltiplos argumentos, ou parâmetros, basta informar para a função quais argumentos ela espera receber."
      ]
    },
    {
      "cell_type": "code",
      "metadata": {
        "id": "yx51mvnJ8mvL"
      },
      "source": [
        "def f2(x,n):\n",
        "    print(f'Seu número é : {x}')\n",
        "    print(f'Seu expoente é : {n}')\n",
        "    print(f'Elevando {x} a {n}, temos: {x**(n)}')\n",
        "    return x**(n) # retorno da função é x^{n}\n",
        "\n",
        "f2(x = 2,n = 3)"
      ],
      "execution_count": null,
      "outputs": []
    },
    {
      "cell_type": "code",
      "metadata": {
        "id": "6EFpPSH38mvM"
      },
      "source": [
        "# Se não informarmos um dos parâmetros, teremos um erro\n",
        "f2(2)"
      ],
      "execution_count": null,
      "outputs": []
    },
    {
      "cell_type": "markdown",
      "metadata": {
        "id": "9xQXQHtw8mvM"
      },
      "source": [
        "#### (1.5.1) Default\n",
        "\n",
        "Note o erro \"TypeError: f2() missing 1 required positional argument: 'n'\", informando que existe a falta de um parâmetro. Caso você queira informar mais parâmetros, porém não quer ficar informando-os toda vez, basta inicializar a função com parâmetros por **default**, informando-os ao definir a função."
      ]
    },
    {
      "cell_type": "code",
      "metadata": {
        "id": "skb8Md_r8mvM"
      },
      "source": [
        "def f3_default(r = 1, x = 0.5, y = 0.866):\n",
        "    v = x**(2) + y**(2)\n",
        "    if v <= r**(1):\n",
        "        print(f'As coordenadas (x,y) = ({x},{y}) estão dentro da Circunferência')\n",
        "        return f'{r**(1)} <= {x}**(2) + {y}**(2)'\n",
        "    else:\n",
        "        print(f'As coordenadas (x,y) = ({x},{y}) estão fora da Circunferência')\n",
        "        return f'{r**(1)} > {x}**(2) + {y}**(2)'\n",
        "\n",
        "f3_default()"
      ],
      "execution_count": null,
      "outputs": []
    },
    {
      "cell_type": "markdown",
      "metadata": {
        "id": "TRtWltlx8mvM"
      },
      "source": [
        "#### (1.5.2) Quantidade indefinida de argumentos\n",
        "\n",
        "Além de podermos informar um número n de parâmetros pré-definidos, também podemos informar uma quantidade indefinida de parâmetros utilizando o **\" * \"** (asterisco). Esse asterisco tem como função indicar para o Python aonde deve alocar todos os parâmetros como elemento dela, na respectiva ordem. Vamos ver um exemplo:"
      ]
    },
    {
      "cell_type": "code",
      "metadata": {
        "id": "k64n4Hqi8mvN"
      },
      "source": [
        "def f4(*args):\n",
        "    for arg in args:\n",
        "        print(f'Argumento : {arg}')\n",
        "\n",
        "f4('TAIL ', 'CURSO ', 'PYTHON', 1, [2,3], {4})"
      ],
      "execution_count": null,
      "outputs": []
    },
    {
      "cell_type": "code",
      "metadata": {
        "id": "acKhA7808mvN"
      },
      "source": [
        "# Agora perceba que se dermos nomes aos parÂmetros, encontraremos\n",
        "# um erro\n",
        "def f4(*args):\n",
        "    for arg in args:\n",
        "        print(f'Argumento : {arg}')\n",
        "\n",
        "f4(a = 'TAIL ', b='CURSO ', c='PYTHON', 1, [2,3], {4})"
      ],
      "execution_count": null,
      "outputs": []
    },
    {
      "cell_type": "markdown",
      "metadata": {
        "id": "8p2k0VbV8mvN"
      },
      "source": [
        "Para podermos agora utilizar de nomes para os parâmetros, precisamos utilizar algo semelhante ao _*args_, utilizamos o _**kwargs_, da seguinte forma:"
      ]
    },
    {
      "cell_type": "code",
      "metadata": {
        "id": "WoIgzopY8mvN"
      },
      "source": [
        "def f4(**kwargs):\n",
        "    for arg in kwargs:\n",
        "        print(f'Argumento : {kwargs[arg]}')\n",
        "\n",
        "f4(a = 'TAIL ', b='CURSO ', c='PYTHON', d=1, e=[2,3], f={4})"
      ],
      "execution_count": null,
      "outputs": []
    },
    {
      "cell_type": "markdown",
      "metadata": {
        "id": "aBoSD9Lo8mvN"
      },
      "source": [
        "#### (1.5.3) Funções como argumentos\n",
        "\n",
        "Sim, também é possivel passar como argumento de uma função, outra função e sim, isso pode ser interessante dependendo da situação, e por questões organizacionais também. Vamos ver um exemplo  desse tipo:"
      ]
    },
    {
      "cell_type": "code",
      "metadata": {
        "id": "ntkV3llQ8mvO",
        "outputId": "19dadf71-1f09-4f35-aa81-fe5e2d91dacb"
      },
      "source": [
        "def f5(x):\n",
        "    if x%2 == 0:\n",
        "        print(f'{x} é Par')\n",
        "    else:\n",
        "        print(f'{x} é Ímpar')\n",
        "\n",
        "def f6(x, f):\n",
        "    return f5(x)\n",
        "\n",
        "f6(7, f5)"
      ],
      "execution_count": null,
      "outputs": [
        {
          "output_type": "stream",
          "text": [
            "7 é Ímpar\n"
          ],
          "name": "stdout"
        }
      ]
    },
    {
      "cell_type": "markdown",
      "metadata": {
        "id": "yMmwO4Ca8mvO"
      },
      "source": [
        "#### (1.5.4) O operador lambda\n",
        "\n",
        "O operador **lambda** é basicamente usado para definir funções curtas, ocupando apenas uma linha de código, podendo ser muito útil para um trabalho rápido. Podemos definir operadores lambda da seguinte forma:"
      ]
    },
    {
      "cell_type": "code",
      "metadata": {
        "id": "qk24dcXU8mvO",
        "outputId": "d1994584-2e17-48c4-c90a-1095ca54e34c"
      },
      "source": [
        "sqrt = lambda x: (x)**(1/2)\n",
        "\n",
        "sqrt(100)"
      ],
      "execution_count": null,
      "outputs": [
        {
          "output_type": "execute_result",
          "data": {
            "text/plain": [
              "10.0"
            ]
          },
          "metadata": {
            "tags": []
          },
          "execution_count": 86
        }
      ]
    },
    {
      "cell_type": "markdown",
      "metadata": {
        "id": "O2TcNESJ8mvP"
      },
      "source": [
        "#### (1.5.5) Funções básicas\n",
        "\n",
        "O Python, como citado algumas vezes anteriormente, vem com algumas funções nativas e muito uteis, como foi dita do próprio **lis()**, **tuple()**, **type()** e entre outras. Vamos listar mais algumas aqui:\n",
        "\n",
        "- sum(): Soma de elementos de uma determinada coleção;\n",
        "- min(), max(): Mínimo e Máximo de uma coleção;\n",
        "- pow(x,y): Eleva um valor x a um valor y;\n",
        "- round(): Arredonda um valor;\n",
        "- all(): Verifica se todos os valores de uma coleção são True (se sim, retorna True);\n",
        "- any(): Verifica se existe pelo menos um True em uma coleção (se Sim, retorna True).\n",
        "\n",
        "Mais algumas podem ser listadas no livro _**Python para Estatísticos**_."
      ]
    },
    {
      "cell_type": "code",
      "metadata": {
        "id": "ATtvaNx78mvP",
        "outputId": "e994cf02-2169-4ba6-bb45-666027c026e4"
      },
      "source": [
        "l = [1, 3, 4, 0]\n",
        "print(any(l))"
      ],
      "execution_count": null,
      "outputs": [
        {
          "output_type": "stream",
          "text": [
            "True\n"
          ],
          "name": "stdout"
        }
      ]
    },
    {
      "cell_type": "markdown",
      "metadata": {
        "id": "EF_a-BbA8mvP"
      },
      "source": [
        "### (1.6) Módulos e Importação\n",
        "\n",
        "Durante projetos, pode ser necessário desenvolver algo mais estruturado, mais complexo, para isso talvez seja necessário dividir o seu **script** em arquivos distintos, para não ficar muito \"recheado\". Para isso podemos separar funções que desejamos utilizar em um script, em outro arquivo distinto do meu script atual.\n",
        "\n",
        "Esse arquivo separado, podemos denomina-lo de **módulo**, esse arquivo de módulo precisa ser do tipo extensão **.py**. Separamos o exemplo utilizado pelo livro **Python para Estatísticos**, retirado da documentação da linguagem para exemplificar. Criamos um arquivo chamado \"**fibo.py**\", o qual conterá o seguinte código:"
      ]
    },
    {
      "cell_type": "code",
      "metadata": {
        "id": "z5UHJWf48mvQ"
      },
      "source": [
        "# Fibonacci numbers module\n",
        "def fib(n):    # write Fibonacci series up to n\n",
        "    a, b = 0, 1\n",
        "    while a < n:\n",
        "        print(a, end=' ')\n",
        "        a, b = b, a+b\n",
        "    print()\n",
        "\n",
        "def fib2(n):   # return Fibonacci series up to n\n",
        "    result = []\n",
        "    a, b = 0, 1\n",
        "    while a < n:\n",
        "        result.append(a)\n",
        "        a, b = b, a+b\n",
        "    return result"
      ],
      "execution_count": null,
      "outputs": []
    },
    {
      "cell_type": "markdown",
      "metadata": {
        "id": "NUc-hP9a8mvQ"
      },
      "source": [
        "Para importarmos esse modulo, precisamos fazer o seguinte:\n",
        "\n",
        "* **import MODULE**\n",
        "\n",
        "Para acessarmos os métodos internos do MODULE, podemos fazer da seguinte forma:\n",
        "\n",
        "* **MODULE.DEF()**"
      ]
    },
    {
      "cell_type": "code",
      "metadata": {
        "id": "qoTfkol08mvQ"
      },
      "source": [
        "# Vamos importar o módulo fibo\n",
        "import fibo"
      ],
      "execution_count": null,
      "outputs": []
    },
    {
      "cell_type": "code",
      "metadata": {
        "id": "eyT9Wb1n8mvQ",
        "outputId": "80734441-16d8-45d0-b02f-9b1bb011711b"
      },
      "source": [
        "# Vamos chamar  uma definição que está dentro do fibo.py,\n",
        "# Vamos pegar o método fig()\n",
        "fibo.fib(100)"
      ],
      "execution_count": null,
      "outputs": [
        {
          "output_type": "stream",
          "text": [
            "0 1 1 2 3 5 8 13 21 34 55 89 \n"
          ],
          "name": "stdout"
        }
      ]
    },
    {
      "cell_type": "code",
      "metadata": {
        "id": "Z0b2bzNQ8mvR",
        "outputId": "b4892c63-d576-4946-e950-e3d1b43a3f3c"
      },
      "source": [
        "# Outro método dentro do fibo.py\n",
        "fibo.fib2(100)"
      ],
      "execution_count": null,
      "outputs": [
        {
          "output_type": "execute_result",
          "data": {
            "text/plain": [
              "[0, 1, 1, 2, 3, 5, 8, 13, 21, 34, 55, 89]"
            ]
          },
          "metadata": {
            "tags": []
          },
          "execution_count": 100
        }
      ]
    },
    {
      "cell_type": "markdown",
      "metadata": {
        "id": "43kAo5Io8mvR"
      },
      "source": [
        "Podemos importar diretamente os métodos dentro do módulo fibo.py, da seguinte forma:\n",
        "\n",
        "* **from MODULE import DEF1, DEF2, DEF3 ...**\n",
        "\n",
        "E para acessar esses métodos, basta fazer da seguinte forma:\n",
        "\n",
        "* **DEF1()**"
      ]
    },
    {
      "cell_type": "code",
      "metadata": {
        "id": "d3K5gPjd8mvR",
        "outputId": "018e9176-b2af-44ab-e75d-9675ff821436"
      },
      "source": [
        "# Vamos acessar o fib()\n",
        "from fibo import fib, fib2\n",
        "\n",
        "fib(10)"
      ],
      "execution_count": null,
      "outputs": [
        {
          "output_type": "stream",
          "text": [
            "0 1 1 2 3 5 8 \n"
          ],
          "name": "stdout"
        }
      ]
    },
    {
      "cell_type": "code",
      "metadata": {
        "id": "h-NnlrIB8mvS",
        "outputId": "920bcefc-11bc-441a-e5c7-5f687d8cf954"
      },
      "source": [
        "# fib2()\n",
        "fib2(10)"
      ],
      "execution_count": null,
      "outputs": [
        {
          "output_type": "execute_result",
          "data": {
            "text/plain": [
              "[0, 1, 1, 2, 3, 5, 8]"
            ]
          },
          "metadata": {
            "tags": []
          },
          "execution_count": 104
        }
      ]
    },
    {
      "cell_type": "markdown",
      "metadata": {
        "id": "j7TUhr698mvS"
      },
      "source": [
        "Podemos também importar todos os métodos dentro do módulo, sem precisar especificar o nome, utiliznado o **\"*\"**. Da seguinte forma:\n",
        "\n",
        "* **from MODULE import ***"
      ]
    },
    {
      "cell_type": "code",
      "metadata": {
        "id": "YidC5CRL8mvS",
        "outputId": "8671b967-2c9b-48bf-ed64-053fe98c3b0b"
      },
      "source": [
        "# Exemplo:\n",
        "from fibo import *\n",
        "\n",
        "fib(30)"
      ],
      "execution_count": null,
      "outputs": [
        {
          "output_type": "stream",
          "text": [
            "0 1 1 2 3 5 8 13 21 \n"
          ],
          "name": "stdout"
        }
      ]
    },
    {
      "cell_type": "markdown",
      "metadata": {
        "id": "lgdxYR_J8mvS"
      },
      "source": [
        "Além disso, podemos atribuir **apelidos** ao módulo, podendo referenciar a ele durante o código por meio desse apelido, da seguinte forma:\n",
        "\n",
        "* **import MODULE as SURNAME**\n",
        "\n",
        "Podendo acessar os métodos internos do módulo da seguinte forma:\n",
        "\n",
        "* **SURNAME.DEF()**"
      ]
    },
    {
      "cell_type": "code",
      "metadata": {
        "id": "JWyr4H738mvT",
        "outputId": "272788fb-1bec-4dd7-c138-11c8947cd73e"
      },
      "source": [
        "# Exemplo:\n",
        "import fibo as f\n",
        "\n",
        "f.fib(50)"
      ],
      "execution_count": null,
      "outputs": [
        {
          "output_type": "stream",
          "text": [
            "0 1 1 2 3 5 8 13 21 34 \n"
          ],
          "name": "stdout"
        }
      ]
    },
    {
      "cell_type": "markdown",
      "metadata": {
        "id": "dOrS5zTr8mvT"
      },
      "source": [
        "#### (1.6.1)  Principais módulos padrões do Python\n",
        "\n",
        "Python ja vem com alguns módulos padrões. No livro **[Python para Estatísticos](tmfilho.github.io/pyestbook)**, está referenciando algumas dessas principais bibliotecas, além disso,  no próximo módulo falamos de algumas principais bibliotecas que não são padrões da linguagem, mas que são extremamente utilizadas."
      ]
    },
    {
      "cell_type": "markdown",
      "metadata": {
        "id": "3kdWBjMd8mvT"
      },
      "source": [
        "### (1.7) Exercícios\n",
        "\n",
        "Indicamos que faça os exercícios pedidos pelo livro **[Python para Estatísticos](tmfilho.github.io/pyestbook)**, no capítulo de **[Exercícios](https://tmfilho.github.io/pyestbook/guide/09_exer.html)**."
      ]
    }
  ]
}