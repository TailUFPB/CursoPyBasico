{
 "cells": [
  {
   "cell_type": "markdown",
   "metadata": {},
   "source": [
    "# Introdução básica ao _Python_\n",
    "\n",
    "## Módulo (I): Conceitos básicos"
   ]
  },
  {
   "cell_type": "markdown",
   "metadata": {},
   "source": [
    "### (1.0) Preparando o ambiente"
   ]
  },
  {
   "cell_type": "code",
   "execution_count": null,
   "metadata": {},
   "outputs": [],
   "source": []
  },
  {
   "cell_type": "markdown",
   "metadata": {},
   "source": [
    "### (1.1) Tipos de variáveis\n",
    "\n",
    "Antes de falarmos dos tipos de variáveis, vamos definir oque é ser uma \"variável\". Basicamente, elas são estruturados da seguinte forma: definimos um valor que desejamos armazenar, daí atribuimos um \"apelido\" para este valor que informamos para que possa ser utilizado em um momento a posterior. Esse \"apelido\" referencia a um endereço de memória craido na sua máquina para armazenar a informação.\n",
    "\n",
    "![test](https://uploaddeimagens.com.br/images/003/156/135/full/var-removebg-preview.png?1616953937)"
   ]
  },
  {
   "cell_type": "markdown",
   "metadata": {},
   "source": [
    "#### (1.1.1)  Nomes e identificadores\n",
    "\n",
    "Como a mairoia das linguagens, nomes de váveis, funções, classes e entre outras coisas,  que podemos denominar como **Identificadores**, aceitam a atribuição do uso de letras tanto **maiúsculas** e **minúsculas**. Esses identificadores apresentam diferenças quanto a maiúsculo e minúsculo, ou seja, **Variavel é diferente de variavel**. Além disso, temos algumas convenções para nomear esses identificadores:\n",
    "\n",
    "| Identificador             | Convenção                           | Exemplo            |   |\n",
    "|---------------------------|-------------------------------------|--------------------|---|\n",
    "| Módulos/pacotes           | caracteres minúsculos               | projetopython      |   |\n",
    "| Métodos/funções/variaveis | minúsculos_separados_por_underlines | variavel_aleatoria |   |\n",
    "| Globais/constantes        | maiúsculos_separados_por_underlines | CONSTANTE          |   |\n",
    "| Classes                   | Iniciais Maiúsculas                 | NormalDistribution |   |\n"
   ]
  },
  {
   "cell_type": "markdown",
   "metadata": {},
   "source": [
    "#### (1.1.2) Atribuição\n",
    "\n",
    "Em Python, temos uma grande flexibilidade de trabalho com essas variáveis. Para atribuirmos um valor em um objeto, basta utilizarmos os sinal de **=**. Vamos ver alguns exemplos:"
   ]
  },
  {
   "cell_type": "code",
   "execution_count": 45,
   "metadata": {},
   "outputs": [],
   "source": [
    "# Utilizando o \"#\" podemos comentar linhas de codigo,\n",
    "# para podermos passar informações que sejam necessarias\n",
    "\n",
    "# Vamos armazenar o valor  123 em um objeto.\n",
    "valor = 123"
   ]
  },
  {
   "cell_type": "markdown",
   "metadata": {},
   "source": [
    "Podemos verificar o tipo de uma variável utilizando o método type() nativo do próprio python.\n"
   ]
  },
  {
   "cell_type": "code",
   "execution_count": 46,
   "metadata": {},
   "outputs": [
    {
     "data": {
      "text/plain": [
       "int"
      ]
     },
     "execution_count": 46,
     "metadata": {},
     "output_type": "execute_result"
    }
   ],
   "source": [
    "type(valor)"
   ]
  },
  {
   "cell_type": "markdown",
   "metadata": {},
   "source": [
    "Perceba que ao utilizarmos o type(valor) tivemos o retorno \"int\", ou seja, valor é uma variável do tipo inteiro. Vamos agora armavezar o número 1, porém ele estará dentro de \"\" (aspas)."
   ]
  },
  {
   "cell_type": "code",
   "execution_count": 47,
   "metadata": {},
   "outputs": [
    {
     "data": {
      "text/plain": [
       "str"
      ]
     },
     "execution_count": 47,
     "metadata": {},
     "output_type": "execute_result"
    }
   ],
   "source": [
    "n = \"1\"\n",
    "type(n)"
   ]
  },
  {
   "cell_type": "markdown",
   "metadata": {},
   "source": [
    "Agora perceba que mesmo escrevendo um valor númerico, tivemos o retorno \"str\", diferente do anterior. \"str\" significa string, ou seja, uma variavel do tipo string é caracterizada por ser armazenada dentro de aspas, ou simplesmente usando str(), método nativo do Python."
   ]
  },
  {
   "cell_type": "code",
   "execution_count": 48,
   "metadata": {},
   "outputs": [
    {
     "data": {
      "text/plain": [
       "'1'"
      ]
     },
     "execution_count": 48,
     "metadata": {},
     "output_type": "execute_result"
    }
   ],
   "source": [
    "str(1)"
   ]
  },
  {
   "cell_type": "markdown",
   "metadata": {},
   "source": [
    "Vamos citar algumas outras características do tipo String:"
   ]
  },
  {
   "cell_type": "code",
   "execution_count": 49,
   "metadata": {},
   "outputs": [
    {
     "name": "stdout",
     "output_type": "stream",
     "text": [
      "minha criatividade é  0\n"
     ]
    }
   ],
   "source": [
    "# Concatenação simples de strings\n",
    "phrase = 'minha criatividade é '\n",
    "print(phrase + ' 0')"
   ]
  },
  {
   "cell_type": "markdown",
   "metadata": {},
   "source": [
    "Note que eu posso concatenar de maneira simples strings, apenas utilizando o \"+\""
   ]
  },
  {
   "cell_type": "code",
   "execution_count": 50,
   "metadata": {},
   "outputs": [
    {
     "name": "stdout",
     "output_type": "stream",
     "text": [
      "Meu nome é Pedin\n",
      "\n",
      "meu nome é Pedin\n",
      "\n",
      "meu nome é Pedin, sou de JP\n",
      "\n",
      "meu nome é Pedin, sou de JP\n"
     ]
    }
   ],
   "source": [
    "# Adicionar informações dentro de uma string, sem utilizar\n",
    "# o \"+\"\n",
    "name = \"Pedin\"\n",
    "print( f\"Meu nome é {name}\")\n",
    "print()\n",
    "print( \"meu nome é {}\".format(name) )\n",
    "# Se quisermos adicionar mais de uma informação ...\n",
    "print()\n",
    "print( \"meu nome é {}, sou de {}\".format(name, 'JP') )\n",
    "print()\n",
    "print( f\"meu nome é {name}, sou de {'JP'}\" )"
   ]
  },
  {
   "cell_type": "markdown",
   "metadata": {},
   "source": [
    "Além do tipo inteiro, anteriormente citado, temos o float, tipo \"ponto fluante\", mas podemos tratar como um numero real. O que podemos fazer com o tipo inteiro, podemos fazer analogo para com o tipo float."
   ]
  },
  {
   "cell_type": "code",
   "execution_count": 51,
   "metadata": {},
   "outputs": [
    {
     "name": "stdout",
     "output_type": "stream",
     "text": [
      "<class 'float'>\n",
      "<class 'float'>\n"
     ]
    }
   ],
   "source": [
    "# Adicionamos a casa decimal\n",
    "value = 3.03\n",
    "print( type(value) )\n",
    "\n",
    "# Ou simplesmente,\n",
    "value = 3.\n",
    "type(value)\n",
    "print( type(value) )"
   ]
  },
  {
   "cell_type": "markdown",
   "metadata": {},
   "source": [
    "##### (1.1.2.1) Atribuição múltipla\n",
    "\n",
    "Além da atribuição simples, podemos realizar varias atribuições com uma linha de comando, utilizando um tipo de variável chamado tupla. Vamos ver alguns exemplos"
   ]
  },
  {
   "cell_type": "code",
   "execution_count": 52,
   "metadata": {},
   "outputs": [
    {
     "data": {
      "text/plain": [
       "tuple"
      ]
     },
     "execution_count": 52,
     "metadata": {},
     "output_type": "execute_result"
    }
   ],
   "source": [
    "# Antes, perceba o seguitne\n",
    "type( (32, 45) ) "
   ]
  },
  {
   "cell_type": "code",
   "execution_count": 53,
   "metadata": {},
   "outputs": [
    {
     "name": "stdout",
     "output_type": "stream",
     "text": [
      "32\n",
      "\n",
      "45\n"
     ]
    }
   ],
   "source": [
    "v1, v2 = 32, 45\n",
    "# vamos olhar os objetod armazenados:\n",
    "print(v1)\n",
    "print()\n",
    "print(v2)"
   ]
  },
  {
   "cell_type": "code",
   "execution_count": 54,
   "metadata": {},
   "outputs": [
    {
     "name": "stdout",
     "output_type": "stream",
     "text": [
      "32\n",
      "\n",
      "45\n"
     ]
    }
   ],
   "source": [
    "# Além disso, podemos realizar essa atribuição múltipla \n",
    "# por meio da variável lista, da seguinte forma:\n",
    "v1, v2 = [32, 45]\n",
    "# vamos olhar os objetod armazenados:\n",
    "print(v1)\n",
    "print()\n",
    "print(v2)"
   ]
  },
  {
   "cell_type": "markdown",
   "metadata": {},
   "source": [
    "### (1.2) Operadores\n",
    "\n",
    "Python oferece alguns tipos de operadores, sendo eles:  "
   ]
  },
  {
   "cell_type": "markdown",
   "metadata": {},
   "source": [
    "   - Lógicos:\n",
    "        - or;\n",
    "        - and;\n",
    "        - not"
   ]
  },
  {
   "cell_type": "code",
   "execution_count": 55,
   "metadata": {},
   "outputs": [],
   "source": [
    "true, false = True, False"
   ]
  },
  {
   "cell_type": "markdown",
   "metadata": {},
   "source": [
    "Para os operadores **Lógicos**, temos o \"or\", que tem como intuito retornar uma condição \"ou\", ou seja, recebem operandos, e tem como intuito retornar um valor lógico. Vamos ver alguns exemplos"
   ]
  },
  {
   "cell_type": "code",
   "execution_count": 56,
   "metadata": {},
   "outputs": [
    {
     "name": "stdout",
     "output_type": "stream",
     "text": [
      "True\n"
     ]
    }
   ],
   "source": [
    "print(true or false)\n",
    "# Perceba que a condição retornou  True, pois  ele considera\n",
    "# a ideia de \"união de eventos\". Nesse caso, como a primeira\n",
    "# condição foi True, ele não precisou verificar a segunda,\n",
    "# ja retornou True."
   ]
  },
  {
   "cell_type": "code",
   "execution_count": 57,
   "metadata": {},
   "outputs": [
    {
     "name": "stdout",
     "output_type": "stream",
     "text": [
      "True\n"
     ]
    }
   ],
   "source": [
    "print(false or true)\n",
    "# Nesse caso, ele verifica a segunda condição."
   ]
  },
  {
   "cell_type": "markdown",
   "metadata": {},
   "source": [
    "Considerando agora o operador \"and\", temos que simboliza a \"interseção\" de duas condições, caso a primeira não seja satisfeita, teremos logo de cara o retorno **False**."
   ]
  },
  {
   "cell_type": "code",
   "execution_count": 58,
   "metadata": {},
   "outputs": [
    {
     "name": "stdout",
     "output_type": "stream",
     "text": [
      "True\n"
     ]
    }
   ],
   "source": [
    "# ambas condições sendo verdadeiras\n",
    "print(true and true)"
   ]
  },
  {
   "cell_type": "code",
   "execution_count": 59,
   "metadata": {},
   "outputs": [
    {
     "name": "stdout",
     "output_type": "stream",
     "text": [
      "False\n"
     ]
    }
   ],
   "source": [
    "# primeira condição false\n",
    "print(false and true)"
   ]
  },
  {
   "cell_type": "code",
   "execution_count": 60,
   "metadata": {},
   "outputs": [
    {
     "name": "stdout",
     "output_type": "stream",
     "text": [
      "False\n"
     ]
    }
   ],
   "source": [
    "# segunda condição false, verifica a segunda  condição\n",
    "print(true and false)"
   ]
  },
  {
   "cell_type": "markdown",
   "metadata": {},
   "source": [
    "Por fim, temos o \"not\", que simplesmente significa negação, ele torna a condição verdadeira, falsa, e a false como verdadeira."
   ]
  },
  {
   "cell_type": "code",
   "execution_count": 61,
   "metadata": {},
   "outputs": [
    {
     "name": "stdout",
     "output_type": "stream",
     "text": [
      "False\n"
     ]
    }
   ],
   "source": [
    "print(not true)"
   ]
  },
  {
   "cell_type": "code",
   "execution_count": 62,
   "metadata": {},
   "outputs": [
    {
     "name": "stdout",
     "output_type": "stream",
     "text": [
      "True\n"
     ]
    }
   ],
   "source": [
    "print(not false)"
   ]
  },
  {
   "cell_type": "markdown",
   "metadata": {},
   "source": [
    "Agora temos os **relacionais**, temos:\n",
    "\n",
    "   - menor que (<);   \n",
    "   - maior que (>);   \n",
    "   - menor ou igual que (<=);   \n",
    "   - maior ou igual que (>=);   \n",
    "   - igualdade (==)\n",
    "    \n",
    "Esses operadores são os mais básicos e que estamos mais acostumados a ver, principalmente em condições como intervalo. Vamos ver alguns exemplos:"
   ]
  },
  {
   "cell_type": "code",
   "execution_count": 63,
   "metadata": {},
   "outputs": [
    {
     "name": "stdout",
     "output_type": "stream",
     "text": [
      "False\n",
      "\n",
      "True\n",
      "\n",
      "False\n"
     ]
    }
   ],
   "source": [
    "print( 1 > 2 )\n",
    "print()\n",
    "print( 1 < 2 )\n",
    "print()\n",
    "print( 1 == 2 )"
   ]
  },
  {
   "cell_type": "markdown",
   "metadata": {},
   "source": [
    "Por fim, temos os operadores **aritméticos**, onde tempos operações matemáticas relacionadas. Vamos ver alguns exemplos:\n",
    "\n",
    "| Operador | Exemplo   | Resultado |   |\n",
    "|----------|-----------|-----------|---|\n",
    "| v1 + v2  | 1 + 2     | 3         |   |\n",
    "| v1 + v2  | 1 + False | 1         |   |\n",
    "| v1 - v2  | 2 - 1     | 1         |   |\n",
    "| v1**(-1) | 10**(-1)  | 0.1       |   |\n",
    "| v1/v2    | 1/2       | 0.5       |   |\n",
    "| v1%v2    | 1%2       | 1         |   |\n",
    "| v2%v1    | 2%1       | 0         |   |"
   ]
  },
  {
   "cell_type": "markdown",
   "metadata": {},
   "source": [
    "### (1.3) Coleções\n",
    "\n",
    "Coleções se resumen a estruturas de dados que permitem multiplos valores e até de diferentes tipos. Temos os seguintes principais tipos:\n",
    "\n",
    "- Listas (list);\n",
    "- tuplas (tuple);\n",
    "- intervalos (range);\n",
    "- textos (str);\n",
    "- dicionários (dict)."
   ]
  },
  {
   "cell_type": "markdown",
   "metadata": {},
   "source": [
    "#### (1.3.1) Listas\n",
    "\n",
    "Em suma, a lista é uma coleção do tipo mutável (mas nem sempre). Normalmente, as listas são utilizadas para armazenar itens homogêneos (mesmo tipo). Vamos criar algumas listas de formas diferentes:"
   ]
  },
  {
   "cell_type": "code",
   "execution_count": 64,
   "metadata": {},
   "outputs": [],
   "source": [
    "a = [] # lista vazia\n",
    "b = [0,1,2] # lista com valores\n",
    "c = list()"
   ]
  },
  {
   "cell_type": "code",
   "execution_count": 65,
   "metadata": {},
   "outputs": [
    {
     "name": "stdout",
     "output_type": "stream",
     "text": [
      "<class 'list'> <class 'list'> <class 'list'>\n"
     ]
    }
   ],
   "source": [
    "print(type(a),type(b),type(c))"
   ]
  },
  {
   "cell_type": "markdown",
   "metadata": {},
   "source": [
    "**Verificando item existente em uma lista**   \n",
    "Em muitos casos, é interessante verificarmos se existe um iten dentro da lista, sendo verificado da seguinte forma:"
   ]
  },
  {
   "cell_type": "code",
   "execution_count": 66,
   "metadata": {},
   "outputs": [
    {
     "data": {
      "text/plain": [
       "True"
      ]
     },
     "execution_count": 66,
     "metadata": {},
     "output_type": "execute_result"
    }
   ],
   "source": [
    "a =[1,2,3]\n",
    "\n",
    "2 in a"
   ]
  },
  {
   "cell_type": "code",
   "execution_count": 67,
   "metadata": {},
   "outputs": [
    {
     "data": {
      "text/plain": [
       "True"
      ]
     },
     "execution_count": 67,
     "metadata": {},
     "output_type": "execute_result"
    }
   ],
   "source": [
    "# ou\n",
    "'a' in ['a', 'b', 'c']"
   ]
  },
  {
   "cell_type": "code",
   "execution_count": 68,
   "metadata": {},
   "outputs": [
    {
     "data": {
      "text/plain": [
       "False"
      ]
     },
     "execution_count": 68,
     "metadata": {},
     "output_type": "execute_result"
    }
   ],
   "source": [
    "# verificando se um item não esta em uma lista\n",
    "'a' not in ['a', 'b', 'c']"
   ]
  },
  {
   "cell_type": "markdown",
   "metadata": {},
   "source": [
    "**Concatenando listas**   \n",
    "Também pode ser interessante para nos, concatenarmos listas. Fazemos da seguinte forma:"
   ]
  },
  {
   "cell_type": "code",
   "execution_count": 69,
   "metadata": {},
   "outputs": [
    {
     "data": {
      "text/plain": [
       "[1, 2, 3, 4]"
      ]
     },
     "execution_count": 69,
     "metadata": {},
     "output_type": "execute_result"
    }
   ],
   "source": [
    "l1, l2 = [1,2], [3,4]\n",
    "l1 + l2"
   ]
  },
  {
   "cell_type": "code",
   "execution_count": 70,
   "metadata": {},
   "outputs": [
    {
     "data": {
      "text/plain": [
       "[1, 2, 1, 2, 1, 2]"
      ]
     },
     "execution_count": 70,
     "metadata": {},
     "output_type": "execute_result"
    }
   ],
   "source": [
    "# Ou até mesmo replicar os valores de uma lista\n",
    "# um número x de vezes que quisermos.\n",
    "alpha = 3\n",
    "l1*alpha"
   ]
  },
  {
   "cell_type": "code",
   "execution_count": 71,
   "metadata": {},
   "outputs": [
    {
     "data": {
      "text/plain": [
       "2"
      ]
     },
     "execution_count": 71,
     "metadata": {},
     "output_type": "execute_result"
    }
   ],
   "source": [
    "# Outro método interessante, nativo do proprio python,\n",
    "# é o len(), onde podemos verificar o tamanho de uma \n",
    "# lista\n",
    "len(l1)"
   ]
  },
  {
   "cell_type": "markdown",
   "metadata": {},
   "source": [
    "**Acessando elementos de uma lista, por meio dos indices**   \n",
    "Pos acessar de maneira simples os elementos de uma lista, por meio dos seus índices. Vale ressaltar que o python começa do índice \"0\"."
   ]
  },
  {
   "cell_type": "code",
   "execution_count": 72,
   "metadata": {},
   "outputs": [],
   "source": [
    "l = [1,5,2,2.2,3,4,5,6,8]"
   ]
  },
  {
   "cell_type": "code",
   "execution_count": 73,
   "metadata": {},
   "outputs": [
    {
     "name": "stdout",
     "output_type": "stream",
     "text": [
      "5\n"
     ]
    }
   ],
   "source": [
    "print(l[1])"
   ]
  },
  {
   "cell_type": "code",
   "execution_count": 74,
   "metadata": {},
   "outputs": [
    {
     "data": {
      "text/plain": [
       "[1, 5, 2]"
      ]
     },
     "execution_count": 74,
     "metadata": {},
     "output_type": "execute_result"
    }
   ],
   "source": [
    "# ou podemos até acessar valores em uma lista, por meio\n",
    "# de intervalos\n",
    "l[0:3] # 3 primeiros elementos da lista"
   ]
  },
  {
   "cell_type": "code",
   "execution_count": 75,
   "metadata": {},
   "outputs": [
    {
     "data": {
      "text/plain": [
       "[1, 2.2]"
      ]
     },
     "execution_count": 75,
     "metadata": {},
     "output_type": "execute_result"
    }
   ],
   "source": [
    "# Além disso, podemos definir intervalos de saltos para a \n",
    "# seleção dos elementos em uma lista\n",
    "l[0:4:3] # salto 3"
   ]
  },
  {
   "cell_type": "markdown",
   "metadata": {},
   "source": [
    "**Alterando internamento em uma lista**\n",
    "\n",
    "Para esta função, temos alguns métodos próprios de uma variável do tipo lista, sendo eles:"
   ]
  },
  {
   "cell_type": "code",
   "execution_count": 76,
   "metadata": {},
   "outputs": [],
   "source": [
    "l = [1,2,3,3,4]"
   ]
  },
  {
   "cell_type": "code",
   "execution_count": 77,
   "metadata": {},
   "outputs": [
    {
     "data": {
      "text/plain": [
       "[1, 2, 3, 3, 4, 100]"
      ]
     },
     "execution_count": 77,
     "metadata": {},
     "output_type": "execute_result"
    }
   ],
   "source": [
    "# list.append()\n",
    "l.append(100) # Adicionamos elementos novos ao final da lista\n",
    "l"
   ]
  },
  {
   "cell_type": "code",
   "execution_count": 78,
   "metadata": {},
   "outputs": [
    {
     "data": {
      "text/plain": [
       "[99, 1, 2, 3, 3, 4, 100]"
      ]
     },
     "execution_count": 78,
     "metadata": {},
     "output_type": "execute_result"
    }
   ],
   "source": [
    "# list.insert()\n",
    "# Adicionamos um elemento em uma posição x\n",
    "l.insert(0, 99)\n",
    "l"
   ]
  },
  {
   "cell_type": "code",
   "execution_count": 79,
   "metadata": {},
   "outputs": [
    {
     "data": {
      "text/plain": [
       "[99, 1, 2, 3, 3, 4, 100, 21, 57, 199]"
      ]
     },
     "execution_count": 79,
     "metadata": {},
     "output_type": "execute_result"
    }
   ],
   "source": [
    "# list.extend()\n",
    "# adicionamos elementos de uma outra lista, \n",
    "# ao final da lista.\n",
    "l.extend( [21,57, 199] )\n",
    "l"
   ]
  },
  {
   "cell_type": "markdown",
   "metadata": {},
   "source": [
    "#### (1.3.2) Tuplas\n",
    "\n",
    "As tuplas são normalmente utilizadas para armazenar dados heterogêneos, porém sendo ela imutável. Vamos criar algumas tuplas de formas diferentes:"
   ]
  },
  {
   "cell_type": "code",
   "execution_count": 80,
   "metadata": {},
   "outputs": [],
   "source": [
    "tp = () # tupla vazia\n",
    "tp = (1,2) # tupla com valores\n",
    "tp = tuple() # utilizando o método nativo tuple()"
   ]
  },
  {
   "cell_type": "code",
   "execution_count": 81,
   "metadata": {},
   "outputs": [
    {
     "ename": "TypeError",
     "evalue": "'tuple' object does not support item assignment",
     "output_type": "error",
     "traceback": [
      "\u001b[0;31m---------------------------------------------------------------------------\u001b[0m",
      "\u001b[0;31mTypeError\u001b[0m                                 Traceback (most recent call last)",
      "\u001b[0;32m<ipython-input-81-b2b43a9ef294>\u001b[0m in \u001b[0;36m<module>\u001b[0;34m\u001b[0m\n\u001b[1;32m      1\u001b[0m \u001b[0;31m# Perceba oque ser imutavel significa:\u001b[0m\u001b[0;34m\u001b[0m\u001b[0;34m\u001b[0m\u001b[0;34m\u001b[0m\u001b[0m\n\u001b[1;32m      2\u001b[0m \u001b[0mtp\u001b[0m \u001b[0;34m=\u001b[0m \u001b[0;34m(\u001b[0m\u001b[0;36m1\u001b[0m\u001b[0;34m,\u001b[0m\u001b[0;36m2\u001b[0m\u001b[0;34m)\u001b[0m\u001b[0;34m\u001b[0m\u001b[0;34m\u001b[0m\u001b[0m\n\u001b[0;32m----> 3\u001b[0;31m \u001b[0mtp\u001b[0m\u001b[0;34m[\u001b[0m\u001b[0;36m0\u001b[0m\u001b[0;34m]\u001b[0m \u001b[0;34m=\u001b[0m \u001b[0;36m4\u001b[0m\u001b[0;34m\u001b[0m\u001b[0;34m\u001b[0m\u001b[0m\n\u001b[0m",
      "\u001b[0;31mTypeError\u001b[0m: 'tuple' object does not support item assignment"
     ]
    }
   ],
   "source": [
    "# Perceba oque ser imutavel significa:\n",
    "tp = (1,2)\n",
    "tp[0] = 4"
   ]
  },
  {
   "cell_type": "markdown",
   "metadata": {},
   "source": [
    "#### (1.3.3) Textos   \n",
    "\n",
    "Nos consideramos dados do tipo texto, como strings (str), também são coleções imutáveis. Existem algumas formas distintas de criarmos variáveis do tipo texto, sendo eles:\n",
    "\n",
    "- Com aspas simples ( ' ' );\n",
    "- Com aspas duplas ( \" \" );\n",
    "- Com 3 aspas simples ou duplas ( '''  ''' )\n",
    "    - Esse tipo permite a inclusão de espaços no meio do texto informado"
   ]
  },
  {
   "cell_type": "code",
   "execution_count": null,
   "metadata": {},
   "outputs": [],
   "source": [
    "# Exemplo do ''' '''\n",
    "print(\n",
    "'''\n",
    "Esse é um texto de exemplo\n",
    "\n",
    "Entende oque eu digo ?\n",
    "'''\n",
    ")"
   ]
  },
  {
   "cell_type": "markdown",
   "metadata": {},
   "source": [
    "Além disso, da mesma forma que podemos acessar valores em uma lista, podemos acessar informações especificas em uma string, até mesmo intervalos especificados"
   ]
  },
  {
   "cell_type": "code",
   "execution_count": null,
   "metadata": {},
   "outputs": [],
   "source": [
    "\"TAIL CURSO PYTHON\"[0]"
   ]
  },
  {
   "cell_type": "code",
   "execution_count": null,
   "metadata": {},
   "outputs": [],
   "source": [
    "\"TAIL CURSO PYTHON\"[:4]"
   ]
  },
  {
   "cell_type": "code",
   "execution_count": null,
   "metadata": {},
   "outputs": [],
   "source": [
    "\"TAIL CURSO PYTHON\"[5:10]"
   ]
  },
  {
   "cell_type": "code",
   "execution_count": null,
   "metadata": {},
   "outputs": [],
   "source": [
    "\"TAIL CURSO PYTHON\"[::(2)]"
   ]
  },
  {
   "cell_type": "code",
   "execution_count": null,
   "metadata": {},
   "outputs": [],
   "source": [
    "# Podemos verificar se uma string esta contida em outra\n",
    "# string\n",
    "\"TAIL\" in \"TAIL CURSO PYTHON\""
   ]
  },
  {
   "cell_type": "code",
   "execution_count": null,
   "metadata": {},
   "outputs": [],
   "source": [
    "\"TAIL\" not in \"TAIL CURSO PYTHON\""
   ]
  },
  {
   "cell_type": "markdown",
   "metadata": {},
   "source": [
    "**Concatenando strings**  \n",
    "Podemos concatenar strings da forma mais simples possivel, utilizando um operador aritmetico \"+\". Vamos ver alguns exemplos:"
   ]
  },
  {
   "cell_type": "code",
   "execution_count": null,
   "metadata": {},
   "outputs": [],
   "source": [
    "print(\"TAIL \" + \"CURSO\" + \" PYTHON\")\n",
    "print()\n",
    "print(\"TAIL \" \"CURSO\" \" PYTHON\") # outra forma"
   ]
  },
  {
   "cell_type": "code",
   "execution_count": null,
   "metadata": {},
   "outputs": [],
   "source": [
    "# Outrsa forma, é utilizarmos o método  .join() do proprio\n",
    "# string. Da seguinte forma:\n",
    "print( ' '.join(['TAIL', 'CURSO', 'PYTHON']) )"
   ]
  },
  {
   "cell_type": "markdown",
   "metadata": {},
   "source": [
    "Mais alguns métodos similares ao .join():\n",
    "\n",
    "- str.split( char ):\n",
    "    - Quebra uma string, separando por \"char\" (você escolhe o separador)\n",
    "- str.lower( ):\n",
    "    - Coloca todos os caracteres em caixa baixa\n",
    "- str.upper( ):\n",
    "    - Coloca os caracteres em caixa alta\n",
    "- str.title( ):\n",
    "    - Coloca a string em formato de título (Primeireas letras de cada palavra fica maiúsculas e as demais minúsculas)"
   ]
  },
  {
   "cell_type": "markdown",
   "metadata": {},
   "source": [
    "#### (1.3.4) Dicionários\n",
    "Dicionários são tipos de coleções mutáveis, onde podemos mapear seu conteúdo por chaves únicas, podendo ser de varios tipo, lista, dicionários, strings, inteiros ou outros. Eles tem um \"parentesco\" muito comum com arquivos do tipo json. Um dicionário pode ser criado de várias formas, algumas delas são:"
   ]
  },
  {
   "cell_type": "code",
   "execution_count": null,
   "metadata": {},
   "outputs": [],
   "source": [
    "dic = { } # Dicionário vazio\n",
    "dic"
   ]
  },
  {
   "cell_type": "code",
   "execution_count": null,
   "metadata": {},
   "outputs": [],
   "source": [
    "dic = {\n",
    "    'key1': 'str',\n",
    "    'key2': 2,\n",
    "    'key3': [3,4,5]\n",
    "}\n",
    "dic"
   ]
  },
  {
   "cell_type": "markdown",
   "metadata": {},
   "source": [
    "#### (1.3.4.1) Algumas operações com dicionários\n",
    "\n",
    "Abaixo, vamos definir algumas operações importantes que podemos fazer com uma variável do tipo dicionário:"
   ]
  },
  {
   "cell_type": "code",
   "execution_count": null,
   "metadata": {},
   "outputs": [],
   "source": [
    "dic = {\n",
    "    'key1': 'str',\n",
    "    'key2': 2,\n",
    "    'key3': [3,4,5]\n",
    "}"
   ]
  },
  {
   "cell_type": "code",
   "execution_count": null,
   "metadata": {},
   "outputs": [],
   "source": [
    "# Adicionando uma chave nova\n",
    "dic['key4'] = 4\n",
    "dic"
   ]
  },
  {
   "cell_type": "code",
   "execution_count": null,
   "metadata": {},
   "outputs": [],
   "source": [
    "# Excluindo uma chave\n",
    "del dic['key4']\n",
    "dic"
   ]
  },
  {
   "cell_type": "code",
   "execution_count": null,
   "metadata": {},
   "outputs": [],
   "source": [
    "# Note que se tentarmos retirar novamente a chave anterior,\n",
    "# obteremos um erro, pois a chave foi retirada internamente\n",
    "# do objeto \"dic\", e atualizado sobre ele mesmo.\n",
    "del dic['key4']"
   ]
  },
  {
   "cell_type": "markdown",
   "metadata": {},
   "source": [
    "**Verificando se uma chave esta dentro da variável**   \n",
    "Lembra-se do \"in\" ? Pois bem, podemos verificar a existência de uma chave dentro de um dicionário da seguinte forma:"
   ]
  },
  {
   "cell_type": "code",
   "execution_count": null,
   "metadata": {},
   "outputs": [],
   "source": [
    "# se queremos ver se está dentro \n",
    "'key1' in dic"
   ]
  },
  {
   "cell_type": "code",
   "execution_count": null,
   "metadata": {},
   "outputs": [],
   "source": [
    "# se queremos ver se não esta dentro \n",
    "'key1' not in dic"
   ]
  },
  {
   "cell_type": "markdown",
   "metadata": {},
   "source": [
    "**Acessando as chaves e os valores das chaves de um dicionário**   \n",
    "Podemos acessar os nomes das chaves e os valores dentro delas utilizando os métodos próprios de um dicionário, dict.keys() e dict.values(), da seguinte forma:"
   ]
  },
  {
   "cell_type": "code",
   "execution_count": null,
   "metadata": {},
   "outputs": [],
   "source": [
    "# Acessando os nomes das chaves\n",
    "dic.keys()"
   ]
  },
  {
   "cell_type": "code",
   "execution_count": null,
   "metadata": {},
   "outputs": [],
   "source": [
    "# Acessando os valores das chaves\n",
    "dic.values()"
   ]
  },
  {
   "cell_type": "markdown",
   "metadata": {},
   "source": [
    "### (1.4) Condições e Laços\n",
    "\n",
    "Poderemos ver nesta seção um pouco sobre condições, que são estruturas para uma determinada tomada de decisão. Além disso, veremos sobre **Laços**, que são estruturas em blocos, onde cada bloco pode desempenhar tarefas distintas ou sub-tarefas. Em muitas linguagens, blocos são limitados por algum caracter, porém no Python existe uma diferença, ela se organiza de forma **identada** para organização dos seus blocos de tarefa. Vamos ver um bloco de código onde demonstramos a identação do python:"
   ]
  },
  {
   "cell_type": "markdown",
   "metadata": {},
   "source": [
    "#### (1.4.1) Condições"
   ]
  },
  {
   "cell_type": "code",
   "execution_count": null,
   "metadata": {},
   "outputs": [],
   "source": [
    "def soma(x,y):\n",
    "    # Perceba o \"salto\" da esquerda para a direita.\n",
    "    # Aqui estamos em um bloco interno do método\n",
    "    # SOMA() que criamos.\n",
    "    valor = x + y\n",
    "    return valor\n",
    "soma(2,3)"
   ]
  },
  {
   "cell_type": "code",
   "execution_count": null,
   "metadata": {},
   "outputs": [],
   "source": [
    "# Perceba que não respeitando a identação correta, obtemos\n",
    "# um erro.\n",
    "\n",
    "def soma(x,y):\n",
    "    # Perceba o \"salto\" da esquerda para a direita.\n",
    "    # Aqui estamos em um bloco interno do método\n",
    "    # SOMA() que criamos.\n",
    "valor = x + y\n",
    "    return valor\n",
    "soma(2,3)\n",
    "\n",
    "# Note o erro do tipo \"IndentationError\", ao colocarmos\n",
    "# uma variavel fora do bloco de identação"
   ]
  },
  {
   "cell_type": "markdown",
   "metadata": {},
   "source": [
    "Abaixo vemos um exemplo de estrutura de condição básica do python, onde a sua tarefa esta sujeita a uma condição, onde deve realizar tarefas diferentes baseada em uma condição.\n",
    "\n",
    "\n",
    "![img](https://tmfilho.github.io/pyestbook/_images/flow-if.svg)"
   ]
  },
  {
   "cell_type": "markdown",
   "metadata": {},
   "source": [
    "Como podemos ver o fluxograma acima, temos uma situação que é a **entrevista de emprego**, onde o sujeito será perguntado: **Sabe Python ?**. A partir dessa condição, **se** a resposta for **Sim**, você esta contratado, **caso contrário**, está demitido. Essa estrutura pode ser transcrita para um código da seguinte forma:"
   ]
  },
  {
   "cell_type": "code",
   "execution_count": null,
   "metadata": {},
   "outputs": [],
   "source": [
    "# Input é um método nativo do python, onde trabalhamso de forma \n",
    "# interativa com o código.\n",
    "knows_python = str(input('Do you know python ? ')).lower()\n",
    "\n",
    "if knows_python in ['sim','yes']:\n",
    "    situation = 'hired'\n",
    "else:\n",
    "    situation = 'unemployed'\n",
    "\n",
    "situation\n"
   ]
  },
  {
   "cell_type": "markdown",
   "metadata": {},
   "source": [
    "Perceba que os blocos **if** e **else** são disjuntos, ou seja, se criarmos uma variável dentro do bloco **if**, ela basicamente não poderá ser chamada dentro do else, caso a condição não seja verdadeira do if. Análogo é caso a variável esteja dentro do **else**. Caso a mesma variável esteja sendo inicializada em ambos, porém com valores distintos, não teremos um error e sim irá imprimir o objeto armazenado respectivo. Um exemplo:"
   ]
  },
  {
   "cell_type": "code",
   "execution_count": null,
   "metadata": {},
   "outputs": [],
   "source": [
    "knows_python = str(input('Do you know python ? ')).lower()\n",
    "\n",
    "if knows_python in ['sim','yes']:\n",
    "    situation = 'hired'\n",
    "    phrase = ' ,congratulations !'\n",
    "else:\n",
    "    situation = 'unemployed'\n",
    "    phrase = ' , sorry, bye !'\n",
    "\n",
    "situation + phrase"
   ]
  },
  {
   "cell_type": "markdown",
   "metadata": {},
   "source": [
    "Além disso, podemos encadear quantas condições quisermos, uma dentro da outra, e dentro da outra, e dentro da outra ... mas encadearmos muitos laços e condições não é uma boa prática de programação, então tenham em mente isso."
   ]
  },
  {
   "cell_type": "markdown",
   "metadata": {},
   "source": [
    "#### (1.4.2) Laços\n",
    "\n",
    "Laços como anteriormente ditos, são estruturas feitas em blocos, onde são feitos com o intuito de repetir determinada tarefa um número finito de vezes. As estruturas mais comuns de repetição são o **while** (enquanto) e **for** (para cada)."
   ]
  },
  {
   "cell_type": "markdown",
   "metadata": {},
   "source": [
    "##### (1.4.2.1) While\n",
    "Essa estrutura é dada como um bloco de código que repete-se enquanto uma condição for verdadeira, funcionando como um **if**  que se repete multiplas vezes. **Alert:** Cuidado ao usar um **while**, facilmente pode-se colocar uma estrutura para realizar repetições infinitas. Vamos ver um exemplo:"
   ]
  },
  {
   "cell_type": "code",
   "execution_count": null,
   "metadata": {},
   "outputs": [],
   "source": [
    "values, k = [], 1\n",
    "while len(values) != 10:\n",
    "    values.append(k) # adiciona valores novos dentro de uma lista\n",
    "    print(values)\n",
    "    k += 1"
   ]
  },
  {
   "cell_type": "markdown",
   "metadata": {},
   "source": [
    "Podemos parar ou pular um pular uma iteração do while, basta adicionarmos uma condição em qual momento do while voce quer que ele faça isso. No nosso caso, vamos pular a terceira iteração, e parar na nona iteração, utilizando o **continue** e o **break**, respectivamente."
   ]
  },
  {
   "cell_type": "code",
   "execution_count": null,
   "metadata": {},
   "outputs": [],
   "source": [
    "k = 1\n",
    "while k != 11:\n",
    "    if k == 3:\n",
    "        k += 1\n",
    "        continue\n",
    "    elif k == 9:\n",
    "        break\n",
    "    print(k)\n",
    "    k += 1 "
   ]
  },
  {
   "cell_type": "markdown",
   "metadata": {},
   "source": [
    " A estrutura **elif** é tem basicamente o significado de **se não, tente isso também**."
   ]
  },
  {
   "cell_type": "markdown",
   "metadata": {},
   "source": [
    "##### (1.4.2.2) For\n",
    "A estrutura **for** basicamente realiza iterações sobre um intervalo, array, lista, chaves de um dicionário ou outros. Ele possuí o significado de \"para cada elemento, realize está tarefa\". \n",
    "\n",
    "Da mesma forma que o **while**, o for permite o uso de comandos como o **break** e **continue**, mas não é uma boa prática, pois o **for** itera sobre um conjunto finito, então ja sabemos o final da iteração, durante um while muitas vezes não sabemos o momento final das iterações."
   ]
  },
  {
   "cell_type": "code",
   "execution_count": null,
   "metadata": {},
   "outputs": [],
   "source": [
    "# Iterando sobre um range()\n",
    "v = [0,1,2,3,4,5,6,7,8,9]\n",
    "for i in range(len(v)):\n",
    "    print(v)\n",
    "    del v[-1]"
   ]
  },
  {
   "cell_type": "code",
   "execution_count": null,
   "metadata": {},
   "outputs": [],
   "source": [
    "# Iterando sobre uma variável do tipo list()\n",
    "v = []\n",
    "for i in [0,1,2,3,4,5,6,7,8,9]:\n",
    "    v.append(i)\n",
    "    print(v)"
   ]
  },
  {
   "cell_type": "code",
   "execution_count": null,
   "metadata": {},
   "outputs": [],
   "source": [
    "# Iterando sobre dicionários\n",
    "dic = {\n",
    "    'key1': {\n",
    "        'key1.1': [1,2]\n",
    "    },\n",
    "    'key2': {\n",
    "        'key1.2': [3,4]\n",
    "    }\n",
    "}\n",
    "for key in dic:\n",
    "    print(dic[key])\n",
    "print()\n",
    "print(key) # Perceba que o valor de key ficou salvo como o último\n",
    "         # da iteração do for, no caso, 'key2'."
   ]
  },
  {
   "cell_type": "code",
   "execution_count": null,
   "metadata": {},
   "outputs": [],
   "source": [
    "# Iterando sobre uma string\n",
    "for i in 'TAIL CURSO BÁSICO':\n",
    "    print(i)"
   ]
  },
  {
   "cell_type": "code",
   "execution_count": null,
   "metadata": {},
   "outputs": [],
   "source": [
    "# Utilizando o zip, para desempacotar a variáveis\n",
    "v1 = [0,1,2,3,4,5,6,7,8,9]\n",
    "v2 = [9,8,7,6,5,4,3,2,1,0]\n",
    "for i,j in zip(v1,v2):\n",
    "    print(i,j)"
   ]
  },
  {
   "cell_type": "markdown",
   "metadata": {},
   "source": [
    "##### (1.4.2.3) List comprehension\n",
    "\n",
    "Compreensão de lista (_list comprehension_) é um mecanismo que permite construir coleções de forma concisa a partir dos resultados de operações sobre cada membro de outras coleções. Vamos ver um pequeno exemplo, onde preenchemos uma lista com valores determinados por um range(), elevados a ele mesmo, mais 1:"
   ]
  },
  {
   "cell_type": "code",
   "execution_count": null,
   "metadata": {},
   "outputs": [],
   "source": [
    "values = [ x**(x+1) for x in range(10) ]\n",
    "values"
   ]
  },
  {
   "cell_type": "code",
   "execution_count": null,
   "metadata": {},
   "outputs": [],
   "source": [
    "# Além disso, podemos adicionar condições a essa estrutura\n",
    "div = [x/2 if x % 2 == 0 else x for x in range(10)]\n",
    "\n",
    "div"
   ]
  },
  {
   "cell_type": "markdown",
   "metadata": {},
   "source": [
    "### (1.5) Funções\n",
    "\n",
    "Funções são estruturas de códigos, feitos em blocos, que podem ser utilizados a qualquer momento, a partir da suca definição. A mesma pode possuir diversos argumentos, que são valores de entrada que são necessários para o seu uso. Para definirmos uma função, precisamos informar primeiro o **def**, e logo após, nome da função e argumentos. Vamos ver uma estrutura basica de uma função:"
   ]
  },
  {
   "cell_type": "code",
   "execution_count": null,
   "metadata": {},
   "outputs": [],
   "source": [
    "def function(argument):\n",
    "    # Code\n",
    "    print( f'Você informou {argument}')\n",
    "    return argument # retornando o proprio argumento\n",
    "\n",
    "function('TEST')"
   ]
  },
  {
   "cell_type": "code",
   "execution_count": null,
   "metadata": {},
   "outputs": [],
   "source": [
    "# Vamos verificar o tipo dessa função\n",
    "type(function) # de fato, uma função"
   ]
  },
  {
   "cell_type": "markdown",
   "metadata": {},
   "source": [
    "Além disso, uma função pode receber múltiplos argumentos, ou parâmetros, basta informar para a função quais argumentos ela espera receber."
   ]
  },
  {
   "cell_type": "code",
   "execution_count": null,
   "metadata": {},
   "outputs": [],
   "source": [
    "def f2(x,n):\n",
    "    print(f'Seu número é : {x}')\n",
    "    print(f'Seu expoente é : {n}')\n",
    "    print(f'Elevando {x} a {n}, temos: {x**(n)}')\n",
    "    return x**(n) # retorno da função é x^{n}\n",
    "\n",
    "f2(x = 2,n = 3)"
   ]
  },
  {
   "cell_type": "code",
   "execution_count": null,
   "metadata": {},
   "outputs": [],
   "source": [
    "# Se não informarmos um dos parâmetros, teremos um erro\n",
    "f2(2)"
   ]
  },
  {
   "cell_type": "markdown",
   "metadata": {},
   "source": [
    "#### (1.5.1) Default\n",
    "\n",
    "Note o erro \"TypeError: f2() missing 1 required positional argument: 'n'\", informando que existe a falta de um parâmetro. Caso você queira informar mais parâmetros, porém não quer ficar informando-os toda vez, basta inicializar a função com parâmetros por **default**, informando-os ao definir a função."
   ]
  },
  {
   "cell_type": "code",
   "execution_count": null,
   "metadata": {},
   "outputs": [],
   "source": [
    "def f3_default(r = 1, x = 0.5, y = 0.866):\n",
    "    v = x**(2) + y**(2)\n",
    "    if v <= r**(1):\n",
    "        print(f'As coordenadas (x,y) = ({x},{y}) estão dentro da Circunferência')\n",
    "        return f'{r**(1)} <= {x}**(2) + {y}**(2)'\n",
    "    else:\n",
    "        print(f'As coordenadas (x,y) = ({x},{y}) estão fora da Circunferência')\n",
    "        return f'{r**(1)} > {x}**(2) + {y}**(2)'\n",
    "\n",
    "f3_default()"
   ]
  },
  {
   "cell_type": "markdown",
   "metadata": {},
   "source": [
    "#### (1.5.2) Quantidade indefinida de argumentos\n",
    "\n",
    "Além de podermos informar um número n de parâmetros pré-definidos, também podemos informar uma quantidade indefinida de parâmetros utilizando o **\" * \"** (asterisco). Esse asterisco tem como função indicar para o Python aonde deve alocar todos os parâmetros como elemento dela, na respectiva ordem. Vamos ver um exemplo:"
   ]
  },
  {
   "cell_type": "code",
   "execution_count": null,
   "metadata": {},
   "outputs": [],
   "source": [
    "def f4(*args):\n",
    "    for arg in args:\n",
    "        print(f'Argumento : {arg}')\n",
    "\n",
    "f4('TAIL ', 'CURSO ', 'PYTHON', 1, [2,3], {4})"
   ]
  },
  {
   "cell_type": "code",
   "execution_count": null,
   "metadata": {},
   "outputs": [],
   "source": [
    "# Agora perceba que se dermos nomes aos parÂmetros, encontraremos\n",
    "# um erro\n",
    "def f4(*args):\n",
    "    for arg in args:\n",
    "        print(f'Argumento : {arg}')\n",
    "\n",
    "f4(a = 'TAIL ', b='CURSO ', c='PYTHON', 1, [2,3], {4})"
   ]
  },
  {
   "cell_type": "markdown",
   "metadata": {},
   "source": [
    "Para podermos agora utilizar de nomes para os parâmetros, precisamos utilizar algo semelhante ao _*args_, utilizamos o _**kwargs_, da seguinte forma:"
   ]
  },
  {
   "cell_type": "code",
   "execution_count": null,
   "metadata": {},
   "outputs": [],
   "source": [
    "def f4(**kwargs):\n",
    "    for arg in kwargs:\n",
    "        print(f'Argumento : {kwargs[arg]}')\n",
    "\n",
    "f4(a = 'TAIL ', b='CURSO ', c='PYTHON', d=1, e=[2,3], f={4})"
   ]
  },
  {
   "cell_type": "markdown",
   "metadata": {},
   "source": [
    "#### (1.5.3) Funções como argumentos\n",
    "\n",
    "Sim, também é possivel passar como argumento de uma função, outra função e sim, isso pode ser interessante dependendo da situação, e por questões organizacionais também. Vamos ver um exemplo  desse tipo:"
   ]
  },
  {
   "cell_type": "code",
   "execution_count": 82,
   "metadata": {},
   "outputs": [
    {
     "name": "stdout",
     "output_type": "stream",
     "text": [
      "7 é Ímpar\n"
     ]
    }
   ],
   "source": [
    "def f5(x):\n",
    "    if x%2 == 0:\n",
    "        print(f'{x} é Par')\n",
    "    else:\n",
    "        print(f'{x} é Ímpar')\n",
    "\n",
    "def f6(x, f):\n",
    "    return f5(x)\n",
    "\n",
    "f6(7, f5)"
   ]
  },
  {
   "cell_type": "markdown",
   "metadata": {},
   "source": [
    "#### (1.5.4) O operador lambda\n",
    "\n",
    "O operador **lambda** é basicamente usado para definir funções curtas, ocupando apenas uma linha de código, podendo ser muito útil para um trabalho rápido. Podemos definir operadores lambda da seguinte forma:"
   ]
  },
  {
   "cell_type": "code",
   "execution_count": 86,
   "metadata": {},
   "outputs": [
    {
     "data": {
      "text/plain": [
       "10.0"
      ]
     },
     "execution_count": 86,
     "metadata": {},
     "output_type": "execute_result"
    }
   ],
   "source": [
    "sqrt = lambda x: (x)**(1/2)\n",
    "\n",
    "sqrt(100)"
   ]
  },
  {
   "cell_type": "markdown",
   "metadata": {},
   "source": [
    "#### (1.5.5) Funções básicas\n",
    "\n",
    "O Python, como citado algumas vezes anteriormente, vem com algumas funções nativas e muito uteis, como foi dita do próprio **lis()**, **tuple()**, **type()** e entre outras. Vamos listar mais algumas aqui:\n",
    "\n",
    "- sum(): Soma de elementos de uma determinada coleção;\n",
    "- min(), max(): Mínimo e Máximo de uma coleção;\n",
    "- pow(x,y): Eleva um valor x a um valor y;\n",
    "- round(): Arredonda um valor;\n",
    "- all(): Verifica se todos os valores de uma coleção são True (se sim, retorna True);\n",
    "- any(): Verifica se existe pelo menos um True em uma coleção (se Sim, retorna True).\n",
    "\n",
    "Mais algumas podem ser listadas no livro _**Python para Estatísticos**_."
   ]
  },
  {
   "cell_type": "code",
   "execution_count": 93,
   "metadata": {},
   "outputs": [
    {
     "name": "stdout",
     "output_type": "stream",
     "text": [
      "True\n"
     ]
    }
   ],
   "source": [
    "l = [1, 3, 4, 0]\n",
    "print(any(l))"
   ]
  },
  {
   "cell_type": "markdown",
   "metadata": {},
   "source": [
    "### (1.6) Módulos e Importação\n",
    "\n",
    "Durante projetos, pode ser necessário desenvolver algo mais estruturado, mais complexo, para isso talvez seja necessário dividir o seu **script** em arquivos distintos, para não ficar muito \"recheado\". Para isso podemos separar funções que desejamos utilizar em um script, em outro arquivo distinto do meu script atual.\n",
    "\n",
    "Esse arquivo separado, podemos denomina-lo de **módulo**, esse arquivo de módulo precisa ser do tipo extensão **.py**. Separamos o exemplo utilizado pelo livro **Python para Estatísticos**, retirado da documentação da linguagem para exemplificar. Criamos um arquivo chamado \"**fibo.py**\", o qual conterá o seguinte código:"
   ]
  },
  {
   "cell_type": "code",
   "execution_count": 94,
   "metadata": {},
   "outputs": [],
   "source": [
    "# Fibonacci numbers module\n",
    "def fib(n):    # write Fibonacci series up to n\n",
    "    a, b = 0, 1\n",
    "    while a < n:\n",
    "        print(a, end=' ')\n",
    "        a, b = b, a+b\n",
    "    print()\n",
    "\n",
    "def fib2(n):   # return Fibonacci series up to n\n",
    "    result = []\n",
    "    a, b = 0, 1\n",
    "    while a < n:\n",
    "        result.append(a)\n",
    "        a, b = b, a+b\n",
    "    return result"
   ]
  },
  {
   "cell_type": "markdown",
   "metadata": {},
   "source": [
    "Para importarmos esse modulo, precisamos fazer o seguinte:\n",
    "\n",
    "* **import MODULE**\n",
    "\n",
    "Para acessarmos os métodos internos do MODULE, podemos fazer da seguinte forma:\n",
    "\n",
    "* **MODULE.DEF()**"
   ]
  },
  {
   "cell_type": "code",
   "execution_count": 95,
   "metadata": {},
   "outputs": [],
   "source": [
    "# Vamos importar o módulo fibo\n",
    "import fibo"
   ]
  },
  {
   "cell_type": "code",
   "execution_count": 98,
   "metadata": {},
   "outputs": [
    {
     "name": "stdout",
     "output_type": "stream",
     "text": [
      "0 1 1 2 3 5 8 13 21 34 55 89 \n"
     ]
    }
   ],
   "source": [
    "# Vamos chamar  uma definição que está dentro do fibo.py,\n",
    "# Vamos pegar o método fig()\n",
    "fibo.fib(100)"
   ]
  },
  {
   "cell_type": "code",
   "execution_count": 100,
   "metadata": {},
   "outputs": [
    {
     "data": {
      "text/plain": [
       "[0, 1, 1, 2, 3, 5, 8, 13, 21, 34, 55, 89]"
      ]
     },
     "execution_count": 100,
     "metadata": {},
     "output_type": "execute_result"
    }
   ],
   "source": [
    "# Outro método dentro do fibo.py\n",
    "fibo.fib2(100)"
   ]
  },
  {
   "cell_type": "markdown",
   "metadata": {},
   "source": [
    "Podemos importar diretamente os métodos dentro do módulo fibo.py, da seguinte forma:\n",
    "\n",
    "* **from MODULE import DEF1, DEF2, DEF3 ...**\n",
    "\n",
    "E para acessar esses métodos, basta fazer da seguinte forma:\n",
    "\n",
    "* **DEF1()**"
   ]
  },
  {
   "cell_type": "code",
   "execution_count": 102,
   "metadata": {},
   "outputs": [
    {
     "name": "stdout",
     "output_type": "stream",
     "text": [
      "0 1 1 2 3 5 8 \n"
     ]
    }
   ],
   "source": [
    "# Vamos acessar o fib()\n",
    "from fibo import fib, fib2\n",
    "\n",
    "fib(10)"
   ]
  },
  {
   "cell_type": "code",
   "execution_count": 104,
   "metadata": {},
   "outputs": [
    {
     "data": {
      "text/plain": [
       "[0, 1, 1, 2, 3, 5, 8]"
      ]
     },
     "execution_count": 104,
     "metadata": {},
     "output_type": "execute_result"
    }
   ],
   "source": [
    "# fib2()\n",
    "fib2(10)"
   ]
  },
  {
   "cell_type": "markdown",
   "metadata": {},
   "source": [
    "Podemos também importar todos os métodos dentro do módulo, sem precisar especificar o nome, utiliznado o **\"*\"**. Da seguinte forma:\n",
    "\n",
    "* **from MODULE import ***"
   ]
  },
  {
   "cell_type": "code",
   "execution_count": 106,
   "metadata": {},
   "outputs": [
    {
     "name": "stdout",
     "output_type": "stream",
     "text": [
      "0 1 1 2 3 5 8 13 21 \n"
     ]
    }
   ],
   "source": [
    "# Exemplo:\n",
    "from fibo import *\n",
    "\n",
    "fib(30)"
   ]
  },
  {
   "cell_type": "markdown",
   "metadata": {},
   "source": [
    "Além disso, podemos atribuir **apelidos** ao módulo, podendo referenciar a ele durante o código por meio desse apelido, da seguinte forma:\n",
    "\n",
    "* **import MODULE as SURNAME**\n",
    "\n",
    "Podendo acessar os métodos internos do módulo da seguinte forma:\n",
    "\n",
    "* **SURNAME.DEF()**"
   ]
  },
  {
   "cell_type": "code",
   "execution_count": 108,
   "metadata": {},
   "outputs": [
    {
     "name": "stdout",
     "output_type": "stream",
     "text": [
      "0 1 1 2 3 5 8 13 21 34 \n"
     ]
    }
   ],
   "source": [
    "# Exemplo:\n",
    "import fibo as f\n",
    "\n",
    "f.fib(50)"
   ]
  },
  {
   "cell_type": "markdown",
   "metadata": {},
   "source": [
    "#### (1.6.1)  Principais módulos padrões do Python\n",
    "\n",
    "Python ja vem com alguns módulos padrões. No livro **[Python para Estatísticos](tmfilho.github.io/pyestbook)**, está referenciando algumas dessas principais bibliotecas, além disso,  no próximo módulo falamos de algumas principais bibliotecas que não são padrões da linguagem, mas que são extremamente utilizadas."
   ]
  },
  {
   "cell_type": "markdown",
   "metadata": {},
   "source": [
    "### (1.7) Exercícios\n",
    "\n",
    "Indicamos que faça os exercícios pedidos pelo livro **[Python para Estatísticos](tmfilho.github.io/pyestbook)**, no capítulo de **[Exercícios](https://tmfilho.github.io/pyestbook/guide/09_exer.html)**."
   ]
  }
 ],
 "metadata": {
  "kernelspec": {
   "display_name": "Python 3",
   "language": "python",
   "name": "python3"
  },
  "language_info": {
   "codemirror_mode": {
    "name": "ipython",
    "version": 3
   },
   "file_extension": ".py",
   "mimetype": "text/x-python",
   "name": "python",
   "nbconvert_exporter": "python",
   "pygments_lexer": "ipython3",
   "version": "3.8.5"
  }
 },
 "nbformat": 4,
 "nbformat_minor": 2
}
